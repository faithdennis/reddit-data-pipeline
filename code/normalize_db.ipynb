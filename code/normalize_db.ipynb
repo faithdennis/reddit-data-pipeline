{
 "cells": [
  {
   "cell_type": "markdown",
   "id": "3430aa4c-61c3-4b73-a393-d06a01e07e68",
   "metadata": {},
   "source": [
    "### Reddit dataset\n",
    "\n",
    "From inspection of the two data tables `submissions` and `comments` and their attributes, it appears that the dataset is fairly denormalized.\n",
    "For instance, most entires in both `submissions` and `comments` have attributes `subreddit`, `subreddit_id`, `subreddit_name_prefixed`, `subreddit_type`. `submissions` also contains `subreddit_subscribers`, which is the number of subscribers to the subreddit. `subreddit_name_prefixed` is the prefixed subreddit name, which can be easily constructed from `subreddit` in this format `r/[subreddit]`, thus not too relevant and can be excluded.\n",
    "\n",
    "\n",
    "From the observations, `subreddit` can be converted to its own entity set which allows retrieve info about subreddits more easily. This makes sense, as in our dataset, there are only posts and comments from 13 different subreddits.\n",
    "\n",
    "In this code below, we will further explore information on subreddits stored in both `submissions` and `comments` and create a seperate table for `subreddit`."
   ]
  },
  {
   "cell_type": "code",
   "execution_count": 9,
   "id": "aa27b60c-c035-4231-9e11-700544cc267e",
   "metadata": {},
   "outputs": [],
   "source": [
    "import os\n",
    "from dotenv import load_dotenv\n",
    "\n",
    "import psycopg2"
   ]
  },
  {
   "cell_type": "markdown",
   "id": "ea80e235-6cda-45a1-9a44-0fb72c9ec312",
   "metadata": {},
   "source": [
    "#### Connect to database using `psycopg2`"
   ]
  },
  {
   "cell_type": "code",
   "execution_count": 16,
   "id": "fd058172-a20e-4de1-ae6e-14d288f3bd6b",
   "metadata": {},
   "outputs": [],
   "source": [
    "load_dotenv()\n",
    "\n",
    "conn = psycopg2.connect(\n",
    "    dbname='reddit',\n",
    "    user=os.getenv('DB_USERNAME'),\n",
    "    password=os.getenv('DB_PASSWORD'),\n",
    "    host=os.getenv('DB_HOST'),\n",
    "    port=os.getenv('DB_PORT')\n",
    ")\n",
    "\n",
    "cur = conn.cursor()"
   ]
  },
  {
   "cell_type": "markdown",
   "id": "0b51c3f3-18c7-4ddc-88e4-d5b7423ea0e3",
   "metadata": {},
   "source": [
    "#### Execute a query on `submissions`"
   ]
  },
  {
   "cell_type": "code",
   "execution_count": 17,
   "id": "bd4bc2de-0c83-4c6a-9e65-8bd815a34691",
   "metadata": {},
   "outputs": [
    {
     "data": {
      "text/plain": [
       "[('15pw0eg',), ('7ransz',), ('evo0t6',), ('147w7g2',), ('83h1ka',)]"
      ]
     },
     "execution_count": 17,
     "metadata": {},
     "output_type": "execute_result"
    }
   ],
   "source": [
    "# Execute a query\n",
    "cur.execute(\"SELECT id FROM submissions ORDER BY RANDOM() LIMIT 5\")\n",
    "\n",
    "# Retrieve query results\n",
    "records = cur.fetchall()\n",
    "records"
   ]
  },
  {
   "cell_type": "markdown",
   "id": "a5a5b64e-43c5-4962-bdd5-71edbbe2710d",
   "metadata": {},
   "source": [
    "#### Execute a query on `comments`"
   ]
  },
  {
   "cell_type": "code",
   "execution_count": 18,
   "id": "b9a0942e-ced6-44b3-b384-1a5fd8052a32",
   "metadata": {},
   "outputs": [
    {
     "data": {
      "text/plain": [
       "[('k7gwts2',), ('jh3h9v7',), ('fbg6hxw',), ('k2u403c',), ('f3staxv',)]"
      ]
     },
     "execution_count": 18,
     "metadata": {},
     "output_type": "execute_result"
    }
   ],
   "source": [
    "# Execute a query\n",
    "cur.execute(\"SELECT id FROM comments ORDER BY RANDOM() LIMIT 5\")\n",
    "\n",
    "# Retrieve query results\n",
    "records = cur.fetchall()\n",
    "records"
   ]
  },
  {
   "cell_type": "code",
   "execution_count": null,
   "id": "67098194-a827-4883-b6a7-25006b4375d5",
   "metadata": {},
   "outputs": [],
   "source": []
  },
  {
   "cell_type": "code",
   "execution_count": null,
   "id": "bd56e8a9-bc80-413a-8da7-cef6f03196ff",
   "metadata": {},
   "outputs": [],
   "source": []
  }
 ],
 "metadata": {
  "kernelspec": {
   "display_name": "Python (data101.venv)",
   "language": "python",
   "name": "data101.venv"
  },
  "language_info": {
   "codemirror_mode": {
    "name": "ipython",
    "version": 3
   },
   "file_extension": ".py",
   "mimetype": "text/x-python",
   "name": "python",
   "nbconvert_exporter": "python",
   "pygments_lexer": "ipython3",
   "version": "3.10.12"
  }
 },
 "nbformat": 4,
 "nbformat_minor": 5
}
