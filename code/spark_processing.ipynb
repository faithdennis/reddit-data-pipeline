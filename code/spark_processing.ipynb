{
 "cells": [
  {
   "cell_type": "code",
   "execution_count": null,
   "metadata": {},
   "outputs": [
    {
     "name": "stderr",
     "output_type": "stream",
     "text": [
      "your 131072x1 screen size is bogus. expect trouble\n",
      "24/12/11 01:08:19 WARN Utils: Your hostname, BOOK-80CSR0J7NE resolves to a loopback address: 127.0.1.1; using 10.255.255.254 instead (on interface lo)\n",
      "24/12/11 01:08:19 WARN Utils: Set SPARK_LOCAL_IP if you need to bind to another address\n",
      "Setting default log level to \"WARN\".\n",
      "To adjust logging level use sc.setLogLevel(newLevel). For SparkR, use setLogLevel(newLevel).\n",
      "24/12/11 01:08:21 WARN NativeCodeLoader: Unable to load native-hadoop library for your platform... using builtin-java classes where applicable\n",
      "                                                                                \r"
     ]
    },
    {
     "name": "stdout",
     "output_type": "stream",
     "text": [
      "+-------+---------------+-----------+--------------------+-------------------+-----------------------------+----------------------+------------------------+--------------------+-----------------------+-----------------+---------------+-------------+---------+--------------+--------+------------------+--------------------+-------------------+----------------+---------------+-------------+---------+------------------+--------------------+----+-------+---------+--------------------+--------+-----+---------------------------+--------------------+----------------------+--------------------+---------------------+---------------+--------+-------------+----------------+----------+-----------------+-------------------+-----------+-----------------------+--------------------+---------------+---------+--------------------+-------------------+--------------+----------+-------------------+--------------------+--------------------+--------+------------------+--------------------+--------------------+------------------+------------+-----------------------+---------------------+--------------+--------------+---------+------------------+------------------+--------------------+----------------+---------------------+--------------------+------------------+-------------------+------+----------------------+----------+----------------+-------------------+\n",
      "|summary|approved_at_utc|approved_by|              author| author_created_utc|author_flair_background_color|author_flair_css_class|author_flair_template_id|   author_flair_text|author_flair_text_color|author_flair_type|author_fullname|banned_at_utc|banned_by|call_to_action|category|content_categories|             created|        created_utc|crosspost_parent|discussion_type|distinguished|   domain|             downs|              edited|from|from_id|from_kind|              gilded|      id|likes|link_flair_background_color|link_flair_css_class|link_flair_template_id|     link_flair_text|link_flair_text_color|link_flair_type|mod_note|mod_reason_by|mod_reason_title|      name|     num_comments|     num_crossposts|num_reports|parent_whitelist_status|           permalink|post_categories|post_hint|   previous_selftext|               pwls|removal_reason|removed_by|removed_by_category|        retrieved_on|       retrieved_utc|rte_mode|             score|            selftext|       selftext_html|         subreddit|subreddit_id|subreddit_name_prefixed|subreddit_subscribers|subreddit_type|suggested_sort|thumbnail|  thumbnail_height|   thumbnail_width|               title|top_awarded_type|total_awards_received|          updated_on|               ups|       upvote_ratio|   url|url_overridden_by_dest|view_count|whitelist_status|                wls|\n",
      "+-------+---------------+-----------+--------------------+-------------------+-----------------------------+----------------------+------------------------+--------------------+-----------------------+-----------------+---------------+-------------+---------+--------------+--------+------------------+--------------------+-------------------+----------------+---------------+-------------+---------+------------------+--------------------+----+-------+---------+--------------------+--------+-----+---------------------------+--------------------+----------------------+--------------------+---------------------+---------------+--------+-------------+----------------+----------+-----------------+-------------------+-----------+-----------------------+--------------------+---------------+---------+--------------------+-------------------+--------------+----------+-------------------+--------------------+--------------------+--------+------------------+--------------------+--------------------+------------------+------------+-----------------------+---------------------+--------------+--------------+---------+------------------+------------------+--------------------+----------------+---------------------+--------------------+------------------+-------------------+------+----------------------+----------+----------------+-------------------+\n",
      "|  count|              0|          0|              839181|             322298|                        99337|                143862|                     706|              144922|                 102907|           400378|         391665|            0|        0|           616|     617|                 0|               99441|             839181|            8827|            281|         3288|   838159|            128319|              839181|   0|      0|        0|              832621|  839181|    0|                     475285|              197193|                183297|              197352|               486104|         486232|       0|            0|               0|    449948|           839181|             762691|      61790|                 471368|              839181|              0|   136751|                2355|             456511|            14|         0|             254691|              650403|              274119|   11256|            839181|              839181|                7846|            839181|      839181|                 299810|               710471|        755527|        114566|   839181|            146479|            146479|              839181|               3|               451933|               44743|            128367|             393982|838159|                 63739|         0|          471368|             456511|\n",
      "|   mean|           NULL|       NULL|1.357251799493589...|1.546892245241075E9|                         NULL|                  NULL|                    NULL|                NULL|                   NULL|             NULL|           NULL|         NULL|     NULL|          NULL|    NULL|              NULL|1.5867867953169317E9|1.569274905533475E9|            NULL|           NULL|         NULL|3132013.0|0.2339560002805508|1.5858036640563028E9|NULL|   NULL|     NULL|0.001098939373376...|Infinity| NULL|                       NULL|                NULL|                  NULL|                NULL|                 NULL|           NULL|    NULL|         NULL|            NULL|      NULL|7.622629682988533|0.01758641441947001|        0.0|                   NULL|                NULL|           NULL|     NULL|                NULL|  5.996602491506229|          NULL|      NULL|               NULL|1.5691117726483011E9|1.6340590756944065E9|    NULL|19.061613644732184|   5.050050055055E11|                NULL|              NULL|        NULL|                   NULL|   1218244.9164033437|          NULL|          NULL|     NULL| 86.09214972794734| 112.7837983601745|8.555564974470297...|            NULL|   0.0723138164285414|1.6955750086271596E9|16.984419671722485| 0.8918018843500675|  NULL|                  NULL|      NULL|            NULL|  5.989194126757077|\n",
      "| stddev|           NULL|       NULL|2.694542489993745...|8.740386717158917E7|                         NULL|                  NULL|                    NULL|                NULL|                   NULL|             NULL|           NULL|         NULL|     NULL|          NULL|    NULL|              NULL| 1.396083550981065E8|8.006075602370572E7|            NULL|           NULL|         NULL|     NULL|2.5343190731333625| 7.360384181197727E7|NULL|   NULL|     NULL| 0.04794539711039134|     NaN| NULL|                       NULL|                NULL|                  NULL|                NULL|                 NULL|           NULL|    NULL|         NULL|            NULL|      NULL| 52.8010183274944|0.22683376522460375|        0.0|                   NULL|                NULL|           NULL|     NULL|                NULL|0.29598575492148227|          NULL|      NULL|               NULL|   7.6997474899713E7|1.5145810135267498E7|    NULL| 268.3973863642429|7.141849278507634E11|                NULL|              NULL|        NULL|                   NULL|   1745092.9186947106|          NULL|          NULL|     NULL|25.786250620906472|35.412152766638094|3.081412198113064...|            NULL|    1.855232829296848|   4893221.207027664| 86.60254545360596|0.18846663924107251|  NULL|                  NULL|      NULL|            NULL|0.33119848650819406|\n",
      "|    min|           NULL|       NULL|--------Username----|         1122523200|                             |                      |    03496466-0b5e-11e...|                    |                   dark|             text|      t2_1001q0|         NULL|     NULL|              |        |              NULL|        1.29392175E9|      1.680307308E9|      t3_1002ldz|           CHAT|        admin|         |                 0|       1.245749691E9|NULL|   NULL|     NULL|                   0| 10006jb| NULL|                           |                    |  09c81174-9f4d-11e...|     asking for help|                 dark|       richtext|    NULL|         NULL|            NULL|t3_10006jb|               -2|                  0|          0|                all_ads|/r/AcademicPsycho...|           NULL|  gallery|                    |                  1|         legal|      NULL|             author|          1411405321|          1622812411|markdown|                 0|                    |&lt;!-- SC_OFF --...|AcademicPsychology|    t5_2qh0k|   r/AcademicPsychology|                   59|        public|    confidence|         |                 0|                 0|\\n      A pill to...|        INACTIVE|                    0|          1687714033|                 0|               0.02|      |                      |      NULL|         all_ads|                  1|\n",
      "|    max|           NULL|       NULL|            zzzzoooo|         1675264632|                  transparent|              firefoxg|    f8d94ce4-0b5d-11e...|🔥 Make Wall Stre...|                  light|             text|       t2_zzzm0|         NULL|     NULL|              |        |              NULL|       1.704066515E9|         1704040259|       t3_zzy8r4|           CHAT|    moderator|zylab.com|               264|                true|NULL|   NULL|     NULL|                  15|  zzzp6k| NULL|                    #ffdda8|              trades|  f8913418-4e9d-11e...|🔥 World's First ...|                light|           text|    NULL|         NULL|            NULL| t3_zzzp6k|             6798|                 35|          0|               some_ads|/r/stockstobuytod...|           NULL|     self|🚨 BREAKING: we j...|                  7|         legal|      NULL|             reddit|          1704066531|          1657169497|richtext|            101741|                  🪽|&lt;!-- SC_OFF --...|  stockstobuytoday|    t5_g268k|     r/stockstobuytoday|              6190109|    restricted|           top|  spoiler|               140|               140|🪐Come, Let's bec...|        INACTIVE|                  390|          1704150902|              5089|                1.0|  self|  https://zpr.io/Zs...|      NULL|        some_ads|                  7|\n",
      "+-------+---------------+-----------+--------------------+-------------------+-----------------------------+----------------------+------------------------+--------------------+-----------------------+-----------------+---------------+-------------+---------+--------------+--------+------------------+--------------------+-------------------+----------------+---------------+-------------+---------+------------------+--------------------+----+-------+---------+--------------------+--------+-----+---------------------------+--------------------+----------------------+--------------------+---------------------+---------------+--------+-------------+----------------+----------+-----------------+-------------------+-----------+-----------------------+--------------------+---------------+---------+--------------------+-------------------+--------------+----------+-------------------+--------------------+--------------------+--------+------------------+--------------------+--------------------+------------------+------------+-----------------------+---------------------+--------------+--------------+---------+------------------+------------------+--------------------+----------------+---------------------+--------------------+------------------+-------------------+------+----------------------+----------+----------------+-------------------+\n",
      "\n"
     ]
    },
    {
     "data": {
      "text/plain": [
       "839181"
      ]
     },
     "execution_count": 1,
     "metadata": {},
     "output_type": "execute_result"
    }
   ],
   "source": [
    "import time\n",
    "\n",
    "from pyspark.sql import SparkSession\n",
    "from pyspark.sql.window import Window\n",
    "from pyspark.sql.functions import col, count, rank, concat, lit, max, row_number, broadcast\n",
    "\n",
    "\n",
    "# Create access point for Spark services\n",
    "# Use defaultParallelism to determine default number of partitions\n",
    "# Use getNumPartitions() to verify number is appropriate for data size ~1GB\n",
    "# Set default parallelism to balance processing speed and hardware limits\n",
    "spark = SparkSession.builder \\\n",
    "    .appName(\"reddit loader\") \\\n",
    "    .config(\"spark.default.parallelism\", \"2\") \\\n",
    "    .config(\"spark.sql.debug.maxToStringFields\", \"2000\") \\\n",
    "    .getOrCreate()\n",
    "\n",
    "# Reducing sampling ratio used to infer schema to 0.1 to reduce resources needed for schema inference.\n",
    "# submissions_df = spark.read.option(\"samplingRatio\", 0.05).json(\"submissions_data.ndjson\")\n",
    "\n",
    "# Create parquet files for more efficient reads and writes\n",
    "# submissions_df.write.option(\"compression\", \"snappy\").mode(\"overwrite\").parquet(\"submissions_data.parquet\")\n",
    "\n",
    "# Read and verify num partitions is appropriate\n",
    "submissions_df = spark.read.parquet(\"../data/submissions_data.parquet\")\n",
    "# submissions_df.rdd.getNumPartitions() # --> 3\n",
    "submissions_df.describe().show() \n",
    "submissions_df.count()"
   ]
  },
  {
   "cell_type": "code",
   "execution_count": 2,
   "metadata": {},
   "outputs": [
    {
     "name": "stderr",
     "output_type": "stream",
     "text": [
      "                                                                                \r"
     ]
    },
    {
     "name": "stdout",
     "output_type": "stream",
     "text": [
      "+-------------+------------------+---------------+-----------+-----+--------+------------+--------------+-----------+-----+--------+------------------+------------+---------------------+--------------+--------------------+---------------------+-----+---+------------+--------------------+\n",
      "|       author|author_created_utc|author_fullname|created_utc|   id|    name|num_comments|num_crossposts|num_reports|score|selftext|         subreddit|subreddit_id|subreddit_subscribers|subreddit_type|               title|total_awards_received|downs|ups|upvote_ratio|                 url|\n",
      "+-------------+------------------+---------------+-----------+-----+--------+------------+--------------+-----------+-----+--------+------------------+------------+---------------------+--------------+--------------------+---------------------+-----+---+------------+--------------------+\n",
      "|ilikebluepens|              NULL|           NULL| 1309564251|iemkn|t3_iemkn|           0|          NULL|       NULL|    4|        |AcademicPsychology|    t5_2sluh|                 NULL|          NULL|Sister subreddit ...|                 NULL|    2|  6|        NULL|http://reddit.com...|\n",
      "| inquilinekea|              NULL|           NULL| 1309561297|iellt|t3_iellt|           1|          NULL|       NULL|    5|        |AcademicPsychology|    t5_2sluh|                 NULL|          NULL|Decline of Fluid ...|                 NULL|    2|  7|        NULL|http://www.quora....|\n",
      "|       drooze|              NULL|           NULL| 1309560844|ielfu|t3_ielfu|           3|          NULL|       NULL|    6|        |AcademicPsychology|    t5_2sluh|                 NULL|          NULL|Ecological Moment...|                 NULL|    0|  6|        NULL|http://www.ncbi.n...|\n",
      "|    [deleted]|              NULL|           NULL| 1309558625|iekns|t3_iekns|           0|          NULL|       NULL|    1|        |AcademicPsychology|    t5_2sluh|                 NULL|          NULL|The Evolution of ...|                 NULL|    0|  1|        NULL|http://arxiv.org/...|\n",
      "|      amayain|              NULL|           NULL| 1309557887|iekel|t3_iekel|           2|          NULL|       NULL|    4|        |AcademicPsychology|    t5_2sluh|                 NULL|          NULL|Is self-compassio...|                 NULL|    1|  5|        NULL|http://www.ncbi.n...|\n",
      "+-------------+------------------+---------------+-----------+-----+--------+------------+--------------+-----------+-----+--------+------------------+------------+---------------------+--------------+--------------------+---------------------+-----+---+------------+--------------------+\n",
      "only showing top 5 rows\n",
      "\n"
     ]
    },
    {
     "name": "stderr",
     "output_type": "stream",
     "text": [
      "[Stage 8:>                                                          (0 + 3) / 3]\r"
     ]
    },
    {
     "name": "stdout",
     "output_type": "stream",
     "text": [
      "+-----------+---------------+-------------------+\n",
      "|         id|       username|         joined_utc|\n",
      "+-----------+---------------+-------------------+\n",
      "|t2_2ev8r79a|      FGCUPsych|2018-10-14 17:14:07|\n",
      "|   t2_qwu96|       tedSquee|2015-10-03 07:30:58|\n",
      "|   t2_lctgx|AngelinaLawmeno|2015-02-14 09:05:23|\n",
      "|  t2_15it1p|  LightSquirrel|2017-02-18 08:11:15|\n",
      "|t2_47mr1qdn|    jamielearns|               NULL|\n",
      "+-----------+---------------+-------------------+\n",
      "only showing top 5 rows\n",
      "\n"
     ]
    },
    {
     "name": "stderr",
     "output_type": "stream",
     "text": [
      "                                                                                \r"
     ]
    }
   ],
   "source": [
    "# Select the columns of data that we find most relevant (based on interest)\n",
    "submissions_df = submissions_df.select(\n",
    "    \"author\", \"author_created_utc\", \n",
    "    \"author_fullname\", \"created_utc\", \n",
    "    \"id\", \"name\", \"num_comments\", \n",
    "    \"num_crossposts\", \"num_reports\", \n",
    "    \"score\", \"selftext\", \"subreddit\", \n",
    "    \"subreddit_id\", \"subreddit_subscribers\", \n",
    "    \"subreddit_type\", \"title\", \n",
    "    \"total_awards_received\", \"downs\", \"ups\", \n",
    "    \"upvote_ratio\", \"url\")\n",
    "submissions_df.show(5)\n",
    "\n",
    "# Next, let's perform preprocessing and generate tables. According to Reddit, t1 indicates comment ids, t2 users, t3 submissions, t5 subreddits.a\n",
    "# We want to enforce that all ids include this information to facilitate joins.\n",
    "# The users dataframe will house user information: id, username, and time of join. \n",
    "# We can formally enforce that all user id and usernames are unique in Postgres, but for now we dropDuplicates().\n",
    "users = submissions_df.select(\n",
    "    col(\"author_fullname\").alias(\"id\"),\n",
    "    col(\"author\").alias(\"username\"),\n",
    "    col(\"author_created_utc\").alias(\"joined_utc\").cast(\"timestamp\")\n",
    "    ).dropDuplicates([\"id\", \"username\"])\n",
    "users.show(5)"
   ]
  },
  {
   "cell_type": "code",
   "execution_count": 3,
   "metadata": {},
   "outputs": [
    {
     "name": "stderr",
     "output_type": "stream",
     "text": [
      "                                                                                \r"
     ]
    },
    {
     "name": "stdout",
     "output_type": "stream",
     "text": [
      "+--------+-------------+--------------+\n",
      "|      id|         name|subreddit_type|\n",
      "+--------+-------------+--------------+\n",
      "|t5_2qh0k|       cogsci|        public|\n",
      "|t5_2qjfk|       stocks|        public|\n",
      "|t5_2qqpg|          NLP|        public|\n",
      "|t5_2r5zc|       edtech|        public|\n",
      "|t5_2rawx|climatechange|        public|\n",
      "+--------+-------------+--------------+\n",
      "only showing top 5 rows\n",
      "\n",
      "+------------+----------------+-------------------+\n",
      "|subreddit_id|subscriber_count|               date|\n",
      "+------------+----------------+-------------------+\n",
      "|    t5_2sluh|           18442|2017-05-16 18:55:05|\n",
      "|    t5_2sluh|           18442|2017-02-12 06:52:13|\n",
      "|    t5_2sluh|           18442|2014-10-17 09:42:41|\n",
      "|    t5_2sluh|           18442|2018-04-14 20:33:44|\n",
      "|    t5_2sluh|           18442|2018-03-12 18:40:44|\n",
      "+------------+----------------+-------------------+\n",
      "only showing top 5 rows\n",
      "\n"
     ]
    }
   ],
   "source": [
    "# The subreddit dataframe identifies subreddit information. We want to enforce that id is unique.\n",
    "subreddits = submissions_df.select(\n",
    "    col(\"subreddit_id\").alias(\"id\"),\n",
    "    col(\"subreddit\").alias(\"name\"),\n",
    "    col(\"subreddit_type\")\n",
    ").dropDuplicates([\"id\"])\n",
    "subreddits.show(5)\n",
    "\n",
    "# With subscriber counts we want to make sure that only valid timestamps are present so we drop all rows with an na value.\n",
    "subscriber_counts = submissions_df.select(\n",
    "    col(\"subreddit_id\"),\n",
    "    col(\"subreddit_subscribers\").alias(\"subscriber_count\").cast(\"int\"),\n",
    "    col(\"author_created_utc\").alias(\"date\").cast(\"timestamp\")\n",
    ").dropna()\n",
    "subscriber_counts.show(5)"
   ]
  },
  {
   "cell_type": "code",
   "execution_count": 4,
   "metadata": {},
   "outputs": [
    {
     "name": "stderr",
     "output_type": "stream",
     "text": [
      "[Stage 15:>                                                         (0 + 1) / 1]\r"
     ]
    },
    {
     "name": "stdout",
     "output_type": "stream",
     "text": [
      "+--------+--------------------+-----------+-------------+-----+------------+--------------+-----------+--------+------------+--------------------+---------------------+-----+---+\n",
      "|      id|               title|created_utc|       author|score|num_comments|num_crossposts|num_reports|selftext|upvote_ratio|                 url|total_awards_received|downs|ups|\n",
      "+--------+--------------------+-----------+-------------+-----+------------+--------------+-----------+--------+------------+--------------------+---------------------+-----+---+\n",
      "|t3_iemkn|Sister subreddit ...|       NULL|ilikebluepens|    4|           0|          NULL|       NULL|        |        NULL|http://reddit.com...|                 NULL|    2|  6|\n",
      "|t3_iellt|Decline of Fluid ...|       NULL| inquilinekea|    5|           1|          NULL|       NULL|        |        NULL|http://www.quora....|                 NULL|    2|  7|\n",
      "|t3_ielfu|Ecological Moment...|       NULL|       drooze|    6|           3|          NULL|       NULL|        |        NULL|http://www.ncbi.n...|                 NULL|    0|  6|\n",
      "|t3_iekns|The Evolution of ...|       NULL|    [deleted]|    1|           0|          NULL|       NULL|        |        NULL|http://arxiv.org/...|                 NULL|    0|  1|\n",
      "|t3_iekel|Is self-compassio...|       NULL|      amayain|    4|           2|          NULL|       NULL|        |        NULL|http://www.ncbi.n...|                 NULL|    1|  5|\n",
      "+--------+--------------------+-----------+-------------+-----+------------+--------------+-----------+--------+------------+--------------------+---------------------+-----+---+\n",
      "only showing top 5 rows\n",
      "\n"
     ]
    },
    {
     "name": "stderr",
     "output_type": "stream",
     "text": [
      "                                                                                \r"
     ]
    }
   ],
   "source": [
    "# For the submissions dataframe, we format submission id to include the t3_ prefix and select relevant columns.\n",
    "submissions = submissions_df.select(\n",
    "    concat(lit(\"t3_\"), col(\"id\")).alias(\"id\"),\n",
    "    col(\"title\"),\n",
    "    col(\"created_utc\").cast(\"timestamp\"),\n",
    "    col(\"author\"),\n",
    "    col(\"score\").cast(\"int\"),\n",
    "    col(\"num_comments\").cast(\"int\"),\n",
    "    col(\"num_crossposts\").cast(\"int\"),\n",
    "    col(\"num_reports\").cast(\"int\"),\n",
    "    col(\"selftext\"),\n",
    "    col(\"upvote_ratio\"),\n",
    "    col(\"url\"),\n",
    "    col(\"total_awards_received\"),\n",
    "    col(\"downs\"),\n",
    "    col(\"ups\")\n",
    ")\n",
    "submissions.show(5)"
   ]
  },
  {
   "cell_type": "code",
   "execution_count": 5,
   "metadata": {},
   "outputs": [
    {
     "name": "stderr",
     "output_type": "stream",
     "text": [
      "[Stage 61:======================================>                   (2 + 1) / 3]\r"
     ]
    },
    {
     "name": "stdout",
     "output_type": "stream",
     "text": [
      "+-------+----------+--------------------+--------------------+------------------+-----------------+-------------------+--------------------+------+---------------------+\n",
      "|summary|        id|               title|              author|             score|     num_comments|     num_crossposts|            selftext|   url|total_awards_received|\n",
      "+-------+----------+--------------------+--------------------+------------------+-----------------+-------------------+--------------------+------+---------------------+\n",
      "|  count|    839181|              839181|              839181|            839181|           839181|             762691|              839181|838159|               451933|\n",
      "|   mean|      NULL|8.555564974470297...|1.357251799493589...|19.061613644732184|7.622629682988533|0.01758641441947001|   5.050050055055E11|  NULL|   0.0723138164285414|\n",
      "| stddev|      NULL|3.081412198113064...|2.694542489993745...| 268.3973863642429| 52.8010183274944|0.22683376522460375|7.141849278507634E11|  NULL|    1.855232829296848|\n",
      "|    min|t3_10006jb|\\n      A pill to...|--------Username----|                 0|               -2|                  0|                    |      |                    0|\n",
      "|    max| t3_zzzp6k|🪐Come, Let's bec...|            zzzzoooo|            101741|             6798|                 35|                  🪽|  self|                  390|\n",
      "+-------+----------+--------------------+--------------------+------------------+-----------------+-------------------+--------------------+------+---------------------+\n",
      "\n"
     ]
    },
    {
     "name": "stderr",
     "output_type": "stream",
     "text": [
      "                                                                                \r"
     ]
    }
   ],
   "source": [
    "# We can probably impute upvote_ratio, num_reports, and num_crossposts.\n",
    "# For now, we will remove any columns that are more than 50% missing.\n",
    "threshold = int(0.50 * submissions.count())\n",
    "columns_to_keep = [column for column in submissions.columns\n",
    "    if submissions.filter(submissions[column].isNotNull()).count() >= threshold]\n",
    "submissions = submissions.select(columns_to_keep)\n",
    "submissions.describe().show()"
   ]
  },
  {
   "cell_type": "code",
   "execution_count": 8,
   "metadata": {},
   "outputs": [
    {
     "name": "stderr",
     "output_type": "stream",
     "text": [
      "                                                                                \r"
     ]
    },
    {
     "name": "stdout",
     "output_type": "stream",
     "text": [
      "+-------+---------------+-----------+----------------+-------------+--------------------+-----------------------------+----------------------+------------------------+-----------------+-----------------------+-----------------+---------------+-------------+---------+--------------------+--------------------+--------------------+-------------------------------+--------------------+---------------------+------------+--------------------+-------------------+--------------------+-------------+------+--------------------+--------------------+--------------------+-----+----------+--------+-------------+----------------+-------+----------+-----------+--------------------+--------------------+--------------+-------+-------------------+--------------------+--------+------------------+------------------+------------+-----------------------+--------------+----------------+---------------------+------------------+-------------------+------------------+\n",
      "|summary|approved_at_utc|approved_by|associated_award|       author|  author_created_utc|author_flair_background_color|author_flair_css_class|author_flair_template_id|author_flair_text|author_flair_text_color|author_flair_type|author_fullname|banned_at_utc|banned_by|                body|           body_html|           body_sha1|collapsed_because_crowd_control|    collapsed_reason|collapsed_reason_code|comment_type|    controversiality|            created|         created_utc|distinguished| downs|              edited|              gilded|                  id|likes|   link_id|mod_note|mod_reason_by|mod_reason_title|   name|nest_level|num_reports|           parent_id|           permalink|removal_reason|replies|       retrieved_on|       retrieved_utc|rte_mode|             score|         subreddit|subreddit_id|subreddit_name_prefixed|subreddit_type|top_awarded_type|total_awards_received|unrepliable_reason|         updated_on|               ups|\n",
      "+-------+---------------+-----------+----------------+-------------+--------------------+-----------------------------+----------------------+------------------------+-----------------+-----------------------+-----------------+---------------+-------------+---------+--------------------+--------------------+--------------------+-------------------------------+--------------------+---------------------+------------+--------------------+-------------------+--------------------+-------------+------+--------------------+--------------------+--------------------+-----+----------+--------+-------------+----------------+-------+----------+-----------+--------------------+--------------------+--------------+-------+-------------------+--------------------+--------+------------------+------------------+------------+-----------------------+--------------+----------------+---------------------+------------------+-------------------+------------------+\n",
      "|  count|              0|          0|               0|      1000833|              382241|                        90182|                  5302|                    7167|            19885|                  99093|           707823|         705228|            0|        0|             1000833|                1185|                 212|                              0|                4112|                31814|           0|             1000833|             292876|             1000833|        35497|438874|             1000833|             1000833|             1000833|    0|   1000833|       0|            0|               0| 710424|        85|     292611|             1000833|              802745|            15| 294008|             940475|               60022|    2778|           1000833|           1000833|     1000833|                 719724|        800715|               0|               738536|                 0|             292820|            466098|\n",
      "|   mean|           NULL|       NULL|            NULL|     Infinity|1.4801933343165333E9|                         NULL|                  NULL|                    NULL|             NULL|                   NULL|             NULL|           NULL|         NULL|     NULL|5.406422518721979E75|                NULL|                NULL|                           NULL|                NULL|                 NULL|        NULL|0.010223483837962977|1.693799721870481E9|1.5872016614600067E9|         NULL|   0.0|1.6114873889603665E9|2.038302094355402E-4|3.043478282608696E28| NULL|      NULL|    NULL|         NULL|            NULL|   NULL|       1.0|        0.0|4.336460094351968...|                NULL|          NULL|   NULL|1.604590271430155E9|1.6274894973383093E9|    NULL|2.5126129933765173|              NULL|        NULL|                   NULL|          NULL|            NULL| 0.001618066011677...|              NULL|1.695775849276354E9|2.1359907143991177|\n",
      "| stddev|           NULL|       NULL|            NULL|          NaN|1.1858325709170178E8|                         NULL|                  NULL|                    NULL|             NULL|                   NULL|             NULL|           NULL|         NULL|     NULL|7.393171601096885E76|                NULL|                NULL|                           NULL|                NULL|                 NULL|        NULL| 0.10059311272015548|  7668786.404835402|1.2603073701333368E8|         NULL|   0.0| 8.740195931895377E7|0.021853171115703517|1.459600897925626...| NULL|      NULL|    NULL|         NULL|            NULL|   NULL|       0.0|        0.0|1.1127094067500521E8|                NULL|          NULL|   NULL|9.739649187712409E7|  510725.80043810135|    NULL| 6.075691118144939|              NULL|        NULL|                   NULL|          NULL|            NULL| 0.051713664160900216|              NULL|  4313454.582147943| 5.128616564605724|\n",
      "|    min|           NULL|       NULL|            NULL|          ---|          1122523200|                             |                      |    03496466-0b5e-11e...|                 |                       |         richtext|      t2_10003s|         NULL|     NULL|                    |&lt;div class=\"md...|0115e5a763baee712...|                           NULL|comment score bel...|              DELETED|        NULL|                   0|      1.423494649E9|       1.680307233E9|        admin|     0|       1.470257164E9|                   0|                104c| NULL|t3_10006ky|    NULL|         NULL|            NULL|t1_104c|         1|          0|         42833958379|/r/AcademicPsycho...|         legal|       |         1424081464|          1626817114|markdown|              -101|AcademicPsychology|    t5_2qh0k|   r/AcademicPsychology|        public|            NULL|                    0|              NULL|         1687336498|               -75|\n",
      "|    max|           NULL|       NULL|            NULL|zzzztopportal|          1680272913|                  transparent|              firefoxg|    f8d94ce4-0b5d-11e...|🚨 FRAUD ALERT 🚨|                  light|             text|       t2_zzzq3|         NULL|     NULL|                  🫥|&lt;div class=\"md...|ff1946f0593e1c2b4...|                           NULL|may be sensitive ...|            LOW_SCORE|        NULL|                   1|       1.70406718E9|          1704062219|    moderator|     0|                true|                  15|                 zub| NULL| t3_zzzp6k|    NULL|         NULL|            NULL| t1_zub|         1|          0|           t3_zzzp6k|/r/stockstobuytod...|         legal|       |         1704067195|          1628435538|richtext|               723|  stockstobuytoday|    t5_g268k|     r/stockstobuytoday|    restricted|            NULL|                   14|              NULL|         1704188101|               723|\n",
      "+-------+---------------+-----------+----------------+-------------+--------------------+-----------------------------+----------------------+------------------------+-----------------+-----------------------+-----------------+---------------+-------------+---------+--------------------+--------------------+--------------------+-------------------------------+--------------------+---------------------+------------+--------------------+-------------------+--------------------+-------------+------+--------------------+--------------------+--------------------+-----+----------+--------+-------------+----------------+-------+----------+-----------+--------------------+--------------------+--------------+-------+-------------------+--------------------+--------+------------------+------------------+------------+-----------------------+--------------+----------------+---------------------+------------------+-------------------+------------------+\n",
      "\n"
     ]
    },
    {
     "data": {
      "text/plain": [
       "1000833"
      ]
     },
     "execution_count": 8,
     "metadata": {},
     "output_type": "execute_result"
    }
   ],
   "source": [
    "# Repeat the same steps with comments data\n",
    "# comments_df = spark.read.option(\"samplingRatio\", 0.05).json(\"comments_data.ndjson\")\n",
    "# comments_df.write.option(\"compression\", \"snappy\").mode(\"overwrite\").parquet(\"comments_data.parquet\")\n",
    "comments_df = spark.read.parquet(\"../data/comments_data.parquet\")\n",
    "comments_df.describe().show()\n",
    "comments_df.count()"
   ]
  },
  {
   "cell_type": "code",
   "execution_count": 9,
   "metadata": {},
   "outputs": [
    {
     "name": "stdout",
     "output_type": "stream",
     "text": [
      "+-----------+----------------+-------------------+\n",
      "|         id|        username|         joined_utc|\n",
      "+-----------+----------------+-------------------+\n",
      "|t2_1v4hef9h|          Iper91|2018-07-27 01:46:33|\n",
      "|t2_qb41mdeu|          rccaad|2022-07-26 12:27:34|\n",
      "|t2_t6n4l0nk|Senior-Storm-727|2022-10-08 07:43:01|\n",
      "|  t2_128krh|        Tyler119|2016-10-19 07:59:11|\n",
      "|t2_mbom6ns2|  choprakunaleth|2022-04-24 00:36:40|\n",
      "+-----------+----------------+-------------------+\n",
      "only showing top 5 rows\n",
      "\n"
     ]
    }
   ],
   "source": [
    "comments_df = comments_df.select(\"author\", \"author_created_utc\", \"author_fullname\", \"body\", \"controversiality\", \"created_utc\", \"distinguished\", \"downs\", \"id\", \"name\", \"num_reports\", \"parent_id\", \"permalink\", \"replies\", \"score\", \"subreddit\", \"subreddit_id\", \"subreddit_name_prefixed\", \"subreddit_type\", \"total_awards_received\", \"ups\")\n",
    "\n",
    "users = users.union(comments_df.select(\n",
    "    col(\"author_fullname\").alias(\"id\"),\n",
    "    col(\"author\").alias(\"username\"),\n",
    "    col(\"author_created_utc\").alias(\"joined_utc\").cast(\"timestamp\")\n",
    "    )).dropDuplicates()\n",
    "users.show(5)"
   ]
  },
  {
   "cell_type": "code",
   "execution_count": 10,
   "metadata": {},
   "outputs": [
    {
     "name": "stderr",
     "output_type": "stream",
     "text": [
      "[Stage 90:>                                                         (0 + 1) / 1]\r"
     ]
    },
    {
     "name": "stdout",
     "output_type": "stream",
     "text": [
      "+----------+---------+------------+---------+----------+--------------------+-----+---+-----+----------------+-------------+-----------+---------------------+---------+\n",
      "|comment_id|parent_id|subreddit_id|   author|created_at|                body|score|ups|downs|controversiality|distinguished|num_reports|total_awards_received|permalink|\n",
      "+----------+---------+------------+---------+----------+--------------------+-----+---+-----+----------------+-------------+-----------+---------------------+---------+\n",
      "|t1_c233p63| t3_iejzu|    t5_2sluh|  amayain|      NULL|I agree that it i...|    3|  3|    0|               0|         NULL|       NULL|                 NULL|     NULL|\n",
      "|t1_c233q0r| t3_iekel|    t5_2sluh|  amayain|      NULL|I thought I might...|    2|  2|    0|               0|         NULL|       NULL|                 NULL|     NULL|\n",
      "|t1_c233vof| t3_iejzu|    t5_2sluh|nicson123|      NULL|Yes, the issue of...|    3|  3|    0|               0|         NULL|       NULL|                 NULL|     NULL|\n",
      "|t1_c233yu8| t3_ielfu|    t5_2sluh|   drooze|      NULL|I'm involved with...|    2|  2|    0|               0|         NULL|       NULL|                 NULL|     NULL|\n",
      "|t1_c233zdz| t3_iejzu|    t5_2sluh|   drooze|      NULL|If you find an ar...|    2|  2|    0|               0|         NULL|       NULL|                 NULL|     NULL|\n",
      "+----------+---------+------------+---------+----------+--------------------+-----+---+-----+----------------+-------------+-----------+---------------------+---------+\n",
      "only showing top 5 rows\n",
      "\n"
     ]
    },
    {
     "name": "stderr",
     "output_type": "stream",
     "text": [
      "                                                                                \r"
     ]
    }
   ],
   "source": [
    "# We select the appropriate columns for the comments dataframe and format the id accordingly.\n",
    "comments = comments_df.select(\n",
    "    concat(lit(\"t1_\"), col(\"id\")).alias(\"comment_id\"),\n",
    "    col(\"parent_id\"),\n",
    "    col(\"subreddit_id\"),\n",
    "    col(\"author\"),\n",
    "    col(\"created_utc\").alias(\"created_at\").cast(\"timestamp\"),\n",
    "    col(\"body\"),\n",
    "    col(\"score\").cast(\"int\"),\n",
    "    col(\"ups\").cast(\"int\"),\n",
    "    col(\"downs\").cast(\"int\"),\n",
    "    col(\"controversiality\").cast(\"int\"),\n",
    "    col(\"distinguished\"),\n",
    "    col(\"num_reports\").cast(\"int\"),\n",
    "    col(\"total_awards_received\").cast(\"int\"),\n",
    "    col(\"permalink\")\n",
    ").dropna(subset=[\"comment_id\", \"body\"])\n",
    "comments.show(5)"
   ]
  },
  {
   "cell_type": "code",
   "execution_count": 11,
   "metadata": {},
   "outputs": [
    {
     "name": "stderr",
     "output_type": "stream",
     "text": [
      "[Stage 136:============================>                            (1 + 1) / 2]\r"
     ]
    },
    {
     "name": "stdout",
     "output_type": "stream",
     "text": [
      "+-------+----------+--------------------+------------+-------------+--------------------+------------------+--------------------+---------------------+--------------------+\n",
      "|summary|comment_id|           parent_id|subreddit_id|       author|                body|             score|    controversiality|total_awards_received|           permalink|\n",
      "+-------+----------+--------------------+------------+-------------+--------------------+------------------+--------------------+---------------------+--------------------+\n",
      "|  count|   1000833|             1000833|     1000833|      1000833|             1000833|           1000833|             1000833|               738536|              802745|\n",
      "|   mean|      NULL|4.336460094351968...|        NULL|     Infinity|5.406422518721979E75|2.5126129933765173|0.010223483837962977| 0.001618066011677...|                NULL|\n",
      "| stddev|      NULL|1.1127094067500521E8|        NULL|          NaN|7.393171601096885E76| 6.075691118144939| 0.10059311272015548| 0.051713664160900216|                NULL|\n",
      "|    min|   t1_104c|         42833958379|    t5_2qh0k|          ---|                    |              -101|                   0|                    0|/r/AcademicPsycho...|\n",
      "|    max|    t1_zub|           t3_zzzp6k|    t5_g268k|zzzztopportal|                  🫥|               723|                   1|                   14|/r/stockstobuytod...|\n",
      "+-------+----------+--------------------+------------+-------------+--------------------+------------------+--------------------+---------------------+--------------------+\n",
      "\n"
     ]
    },
    {
     "name": "stderr",
     "output_type": "stream",
     "text": [
      "                                                                                \r"
     ]
    }
   ],
   "source": [
    "# For now, we will remove any columns that are more than 50% missing.\n",
    "threshold = int(0.50 * comments.count())\n",
    "columns_to_keep = [column for column in comments.columns\n",
    "    if comments.filter(comments[column].isNotNull()).count() >= threshold]\n",
    "comments = comments.select(columns_to_keep)\n",
    "comments.describe().show()"
   ]
  },
  {
   "cell_type": "code",
   "execution_count": 34,
   "metadata": {},
   "outputs": [
    {
     "name": "stdout",
     "output_type": "stream",
     "text": [
      "== Physical Plan ==\n",
      "AdaptiveSparkPlan isFinalPlan=false\n",
      "+- Sort [num_replies#25713L DESC NULLS LAST], true, 0\n",
      "   +- Exchange rangepartitioning(num_replies#25713L DESC NULLS LAST, 200), ENSURE_REQUIREMENTS, [plan_id=7556]\n",
      "      +- Project [comment_id#25693, num_replies#25713L, parent_id#25781, subreddit_id#25797, author#25731, body#25748, score#19503, controversiality#19506, total_awards_received#19508, permalink#25782]\n",
      "         +- BroadcastHashJoin [comment_id#25693], [comment_id#19501], Inner, BuildLeft, false\n",
      "            :- BroadcastExchange HashedRelationBroadcastMode(List(input[0, string, true]),false), [plan_id=7552]\n",
      "            :  +- Project [comment_id#25693, num_replies#25713L]\n",
      "            :     +- Filter ((row_number#25718 = 1) AND isnotnull(comment_id#25693))\n",
      "            :        +- Window [row_number() windowspecdefinition(subreddit_id#14306, num_replies#25713L DESC NULLS LAST, specifiedwindowframe(RowFrame, unboundedpreceding$(), currentrow$())) AS row_number#25718], [subreddit_id#14306], [num_replies#25713L DESC NULLS LAST]\n",
      "            :           +- WindowGroupLimit [subreddit_id#14306], [num_replies#25713L DESC NULLS LAST], row_number(), 1, Final\n",
      "            :              +- Sort [subreddit_id#14306 ASC NULLS FIRST, num_replies#25713L DESC NULLS LAST], false, 0\n",
      "            :                 +- Exchange hashpartitioning(subreddit_id#14306, 200), ENSURE_REQUIREMENTS, [plan_id=7545]\n",
      "            :                    +- WindowGroupLimit [subreddit_id#14306], [num_replies#25713L DESC NULLS LAST], row_number(), 1, Partial\n",
      "            :                       +- Sort [subreddit_id#14306 ASC NULLS FIRST, num_replies#25713L DESC NULLS LAST], false, 0\n",
      "            :                          +- HashAggregate(keys=[subreddit_id#14306, comment_id#19501], functions=[count(comment_id#25647)])\n",
      "            :                             +- Exchange hashpartitioning(subreddit_id#14306, comment_id#19501, 200), ENSURE_REQUIREMENTS, [plan_id=7539]\n",
      "            :                                +- HashAggregate(keys=[subreddit_id#14306, comment_id#19501], functions=[partial_count(comment_id#25647)])\n",
      "            :                                   +- Project [comment_id#19501, subreddit_id#14306, comment_id#25647]\n",
      "            :                                      +- BroadcastHashJoin [comment_id#19501], [parent_id#25621], LeftOuter, BuildRight, false\n",
      "            :                                         :- Project [concat(t1_, id#14276) AS comment_id#19501, subreddit_id#14306]\n",
      "            :                                         :  +- Filter ((isnotnull(controversiality#14267L) AND atleastnnonnulls(2, concat(t1_, id#14276), body#14257)) AND (cast(controversiality#14267L as int) = 1))\n",
      "            :                                         :     +- FileScan parquet [body#14257,controversiality#14267L,id#14276,subreddit_id#14306] Batched: true, DataFilters: [isnotnull(controversiality#14267L), atleastnnonnulls(2, concat(t1_, id#14276), body#14257), (cas..., Format: Parquet, Location: InMemoryFileIndex(1 paths)[file:/mnt/c/Users/fdenn/projects/data101/repo/data/comments_data.parquet], PartitionFilters: [], PushedFilters: [IsNotNull(controversiality)], ReadSchema: struct<body:string,controversiality:bigint,id:string,subreddit_id:string>\n",
      "            :                                         +- BroadcastExchange HashedRelationBroadcastMode(List(input[1, string, true]),false), [plan_id=7534]\n",
      "            :                                            +- Project [concat(t1_, id#25607) AS comment_id#25647, parent_id#25621]\n",
      "            :                                               +- Filter (atleastnnonnulls(2, concat(t1_, id#25607), body#25588) AND isnotnull(parent_id#25621))\n",
      "            :                                                  +- FileScan parquet [body#25588,id#25607,parent_id#25621] Batched: true, DataFilters: [atleastnnonnulls(2, concat(t1_, id#25607), body#25588), isnotnull(parent_id#25621)], Format: Parquet, Location: InMemoryFileIndex(1 paths)[file:/mnt/c/Users/fdenn/projects/data101/repo/data/comments_data.parquet], PartitionFilters: [], PushedFilters: [IsNotNull(parent_id)], ReadSchema: struct<body:string,id:string,parent_id:string>\n",
      "            +- Project [concat(t1_, id#25767) AS comment_id#19501, parent_id#25781, subreddit_id#25797, author#25731, body#25748, cast(score#25791L as int) AS score#19503, cast(controversiality#25758L as int) AS controversiality#19506, cast(total_awards_received#25801L as int) AS total_awards_received#19508, permalink#25782]\n",
      "               +- Filter (atleastnnonnulls(2, concat(t1_, id#25767), body#25748) AND isnotnull(concat(t1_, id#25767)))\n",
      "                  +- FileScan parquet [author#25731,body#25748,controversiality#25758L,id#25767,parent_id#25781,permalink#25782,score#25791L,subreddit_id#25797,total_awards_received#25801L] Batched: true, DataFilters: [atleastnnonnulls(2, concat(t1_, id#25767), body#25748), isnotnull(concat(t1_, id#25767))], Format: Parquet, Location: InMemoryFileIndex(1 paths)[file:/mnt/c/Users/fdenn/projects/data101/repo/data/comments_data.parquet], PartitionFilters: [], PushedFilters: [], ReadSchema: struct<author:string,body:string,controversiality:bigint,id:string,parent_id:string,permalink:str...\n",
      "\n",
      "\n"
     ]
    },
    {
     "name": "stderr",
     "output_type": "stream",
     "text": [
      "[Stage 243:============================>                            (1 + 1) / 2]\r"
     ]
    },
    {
     "name": "stdout",
     "output_type": "stream",
     "text": [
      "+----------+-----------+----------+------------+------------------+--------------------+-----+----------------+---------------------+--------------------+\n",
      "|comment_id|num_replies| parent_id|subreddit_id|            author|                body|score|controversiality|total_awards_received|           permalink|\n",
      "+----------+-----------+----------+------------+------------------+--------------------+-----+----------------+---------------------+--------------------+\n",
      "|t1_kf1q6ou|         14|t1_kf1j4jb|    t5_2rawx|TransitionProof625|China emits 26% o...|    1|               1|                    0|/r/climatechange/...|\n",
      "|t1_kax8i0d|         13|t1_kax83jo|    t5_3crzr| newExperience2020|But why do you ne...|  -14|               1|                    0|/r/ArtificialInte...|\n",
      "|t1_hl247bc|          9| t3_qw7l65|    t5_2tf7t|        VerumJerum|It's a shame Star...|   13|               1|                    0|/r/ImaginaryTechn...|\n",
      "|t1_dg95chg|          8| t3_65byl6|    t5_2qh0k|         [deleted]|           [deleted]|  -15|               1|                 NULL|                NULL|\n",
      "|t1_cx95qaa|          7| t3_3tts5u|    t5_2sluh|   animalprofessor|This might be con...|   -4|               1|                 NULL|                NULL|\n",
      "|t1_hj88pi9|          5|t1_hj7tzlz|    t5_2r5zc|       duluthbison|LMAO a teacher sh...|   -2|               1|                    0|/r/edtech/comment...|\n",
      "|t1_hhn36ul|          5| t3_qdjghp|    t5_2wwow|         [deleted]|If anyone expecte...|    2|               1|                    0|/r/StocksAndTradi...|\n",
      "|t1_j0b7j5v|          4| t3_zmgwi1|   t5_7ipnaj|          PattPott|I asked ChatGPT f...|    4|               1|                    0|/r/ChatGPTCoding/...|\n",
      "|t1_ke4j7wo|          4|t3_18mhsie|    t5_2qqpg|          notuolos|Tad James always ...|    1|               1|                    0|/r/NLP/comments/1...|\n",
      "|t1_hu6vu63|          3| t3_sckjnd|    t5_2u7f1|         bcoder001|No. Open Banking ...|    0|               1|                    0|/r/fintech/commen...|\n",
      "+----------+-----------+----------+------------+------------------+--------------------+-----+----------------+---------------------+--------------------+\n",
      "\n",
      "Total execution time: 6776.849269866943 miliseconds\n"
     ]
    },
    {
     "name": "stderr",
     "output_type": "stream",
     "text": [
      "                                                                                \r"
     ]
    }
   ],
   "source": [
    "# Query the controversial comment with the most replies for each subreddit\n",
    "# First get the number of replies for each controversial comment\n",
    "controversial_comments = comments.filter(col(\"controversiality\") == 1)\n",
    "reply_counts = controversial_comments.alias(\"cc\").join(comments.alias(\"c\"), col(\"cc.comment_id\")==col(\"c.parent_id\"), \"left\") \\\n",
    "                .groupBy(col(\"cc.subreddit_id\").alias(\"subreddit_id\"), col(\"cc.comment_id\").alias(\"comment_id\")).agg(count(\"c.comment_id\").alias(\"num_replies\"))\n",
    "\n",
    "# Rank the comments for each subreddit by creating windows and ranking the rows\n",
    "window_spec = Window.partitionBy(\"subreddit_id\").orderBy(col(\"num_replies\").desc())\n",
    "ranked_comments = reply_counts.withColumn(\"row_number\", row_number().over(window_spec))\n",
    "\n",
    "# Grab the top-ranked comment for each subreddit\n",
    "most_engaging_controversial_comments = ranked_comments.filter(col(\"row_number\") == 1) \\\n",
    "                                                      .select(\"comment_id\", \"num_replies\")\n",
    "\n",
    "# Retrieve the comment information for the most engaging comments\n",
    "most_engaging_controversial_comments = broadcast(most_engaging_controversial_comments).join(\n",
    "    comments, \"comment_id\").orderBy(col(\"num_replies\").desc())\n",
    "\n",
    "# Run the query and evaluate runtime. Observe that Spark runs every action when results are requested\n",
    "# without storing intermediate results. \n",
    "most_engaging_controversial_comments.explain()\n",
    "start = time.time()\n",
    "most_engaging_controversial_comments.show(13)\n",
    "end = time.time()\n",
    "\n",
    "runtime = (end - start) * 1000\n",
    "print(f\"Total execution time: {runtime} miliseconds\") "
   ]
  },
  {
   "cell_type": "code",
   "execution_count": null,
   "metadata": {},
   "outputs": [
    {
     "name": "stdout",
     "output_type": "stream",
     "text": [
      "== Physical Plan ==\n",
      "AdaptiveSparkPlan isFinalPlan=false\n",
      "+- Sort [num_replies#25414L DESC NULLS LAST], true, 0\n",
      "   +- Exchange rangepartitioning(num_replies#25414L DESC NULLS LAST, 200), ENSURE_REQUIREMENTS, [plan_id=7020]\n",
      "      +- Project [comment_id#25393, subreddit_id#14306, num_replies#25414L, parent_id#25474, subreddit_id#25490, author#25424, body#25441, score#19503, controversiality#19506, total_awards_received#19508, permalink#25475]\n",
      "         +- BroadcastHashJoin [comment_id#25393], [comment_id#19501], Inner, BuildLeft, false\n",
      "            :- BroadcastExchange HashedRelationBroadcastMode(List(input[1, string, true]),false), [plan_id=7016]\n",
      "            :  +- HashAggregate(keys=[subreddit_id#14306, comment_id#19501], functions=[count(comment_id#25345)])\n",
      "            :     +- Exchange hashpartitioning(subreddit_id#14306, comment_id#19501, 200), ENSURE_REQUIREMENTS, [plan_id=7013]\n",
      "            :        +- HashAggregate(keys=[subreddit_id#14306, comment_id#19501], functions=[partial_count(comment_id#25345)])\n",
      "            :           +- Project [comment_id#19501, subreddit_id#14306, comment_id#25345]\n",
      "            :              +- BroadcastHashJoin [comment_id#19501], [parent_id#25319], Inner, BuildLeft, false\n",
      "            :                 :- BroadcastExchange HashedRelationBroadcastMode(List(input[0, string, true]),false), [plan_id=7008]\n",
      "            :                 :  +- Project [comment_id#19501, subreddit_id#14306]\n",
      "            :                 :     +- Filter ((row_number#25252 = 1) AND isnotnull(comment_id#19501))\n",
      "            :                 :        +- Window [row_number() windowspecdefinition(subreddit_id#14306, score#19503 DESC NULLS LAST, specifiedwindowframe(RowFrame, unboundedpreceding$(), currentrow$())) AS row_number#25252], [subreddit_id#14306], [score#19503 DESC NULLS LAST]\n",
      "            :                 :           +- WindowGroupLimit [subreddit_id#14306], [score#19503 DESC NULLS LAST], row_number(), 1, Final\n",
      "            :                 :              +- Sort [subreddit_id#14306 ASC NULLS FIRST, score#19503 DESC NULLS LAST], false, 0\n",
      "            :                 :                 +- Exchange hashpartitioning(subreddit_id#14306, 200), ENSURE_REQUIREMENTS, [plan_id=7001]\n",
      "            :                 :                    +- WindowGroupLimit [subreddit_id#14306], [score#19503 DESC NULLS LAST], row_number(), 1, Partial\n",
      "            :                 :                       +- Sort [subreddit_id#14306 ASC NULLS FIRST, score#19503 DESC NULLS LAST], false, 0\n",
      "            :                 :                          +- Project [concat(t1_, id#14276) AS comment_id#19501, subreddit_id#14306, cast(score#14300L as int) AS score#19503]\n",
      "            :                 :                             +- Filter atleastnnonnulls(2, concat(t1_, id#14276), body#14257)\n",
      "            :                 :                                +- FileScan parquet [body#14257,id#14276,score#14300L,subreddit_id#14306] Batched: true, DataFilters: [atleastnnonnulls(2, concat(t1_, id#14276), body#14257)], Format: Parquet, Location: InMemoryFileIndex(1 paths)[file:/mnt/c/Users/fdenn/projects/data101/repo/data/comments_data.parquet], PartitionFilters: [], PushedFilters: [], ReadSchema: struct<body:string,id:string,score:bigint,subreddit_id:string>\n",
      "            :                 +- Project [concat(t1_, id#25305) AS comment_id#25345, parent_id#25319]\n",
      "            :                    +- Filter (atleastnnonnulls(2, concat(t1_, id#25305), body#25286) AND isnotnull(parent_id#25319))\n",
      "            :                       +- FileScan parquet [body#25286,id#25305,parent_id#25319] Batched: true, DataFilters: [atleastnnonnulls(2, concat(t1_, id#25305), body#25286), isnotnull(parent_id#25319)], Format: Parquet, Location: InMemoryFileIndex(1 paths)[file:/mnt/c/Users/fdenn/projects/data101/repo/data/comments_data.parquet], PartitionFilters: [], PushedFilters: [IsNotNull(parent_id)], ReadSchema: struct<body:string,id:string,parent_id:string>\n",
      "            +- Project [concat(t1_, id#25460) AS comment_id#19501, parent_id#25474, subreddit_id#25490, author#25424, body#25441, cast(score#25484L as int) AS score#19503, cast(controversiality#25451L as int) AS controversiality#19506, cast(total_awards_received#25494L as int) AS total_awards_received#19508, permalink#25475]\n",
      "               +- Filter (atleastnnonnulls(2, concat(t1_, id#25460), body#25441) AND isnotnull(concat(t1_, id#25460)))\n",
      "                  +- FileScan parquet [author#25424,body#25441,controversiality#25451L,id#25460,parent_id#25474,permalink#25475,score#25484L,subreddit_id#25490,total_awards_received#25494L] Batched: true, DataFilters: [atleastnnonnulls(2, concat(t1_, id#25460), body#25441), isnotnull(concat(t1_, id#25460))], Format: Parquet, Location: InMemoryFileIndex(1 paths)[file:/mnt/c/Users/fdenn/projects/data101/repo/data/comments_data.parquet], PartitionFilters: [], PushedFilters: [], ReadSchema: struct<author:string,body:string,controversiality:bigint,id:string,parent_id:string,permalink:str...\n",
      "\n",
      "\n"
     ]
    },
    {
     "name": "stderr",
     "output_type": "stream",
     "text": [
      "[Stage 235:============================>                            (1 + 1) / 2]\r"
     ]
    },
    {
     "name": "stdout",
     "output_type": "stream",
     "text": [
      "+----------+------------+-----------+----------+------------+--------------------+--------------------+-----+----------------+---------------------+--------------------+\n",
      "|comment_id|subreddit_id|num_replies| parent_id|subreddit_id|              author|                body|score|controversiality|total_awards_received|           permalink|\n",
      "+----------+------------+-----------+----------+------------+--------------------+--------------------+-----+----------------+---------------------+--------------------+\n",
      "|t1_kch9kvt|    t5_2rawx|         45|t3_18dgxau|    t5_2rawx|            burrwati|I’m a human right...|  320|               0|                    0|/r/climatechange/...|\n",
      "|t1_c0noh6g|    t5_2qh0k|         31|  t3_bnr31|    t5_2qh0k|           theonusta|&gt; Mark Jaffe, ...|  723|               0|                 NULL|                NULL|\n",
      "|t1_kcxfofc|   t5_7ipnaj|         26|t3_18g0cha|   t5_7ipnaj|             pete_68|>  People think t...|  186|               0|                    0|/r/ChatGPTCoding/...|\n",
      "|t1_gl83fua|    t5_2wwow|          8| t3_l7mlu1|    t5_2wwow|            BackDaws|Amc and Nok restr...|  100|               0|                    0|/r/StocksAndTradi...|\n",
      "|t1_e4r36h1|    t5_2tf7t|          7| t3_99x9wd|    t5_2tf7t|captainmagictrousers|\\[Cyborg tries to...|  507|               0|                 NULL|/r/ImaginaryTechn...|\n",
      "|t1_k8gmk9f|    t5_2sluh|          4|t3_17r4q6g|    t5_2sluh|    FarClassroom1740|People in the fie...|  459|               0|                    0|/r/AcademicPsycho...|\n",
      "|t1_hid4y8h|   t5_3hczbd|          4| t3_qhhd4s|   t5_3hczbd|  PalpitationTop3202|$IINN (Inspira Te...|   10|               0|                    0|/r/stockstobuytod...|\n",
      "|t1_h6i5x12|    t5_2r5zc|          3| t3_ordt69|    t5_2r5zc|           [deleted]|           [deleted]|   36|               0|                    0|/r/edtech/comment...|\n",
      "|t1_h3w7eh5|    t5_2u7f1|          3| t3_ocphyo|    t5_2u7f1|            mcknschn|Saving you a clic...|   28|               0|                    0|/r/fintech/commen...|\n",
      "|t1_k9fjjtu|    t5_3crzr|          1|t3_15nrp5z|    t5_3crzr|        Soggy-Ad-816|Definitely [https...|  654|               0|                    0|/r/ArtificialInte...|\n",
      "|t1_fhel0u6|    t5_2qqpg|          1| t3_f2sysr|    t5_2qqpg|      DainichiNyorai|Over the last a l...|   27|               0|                    0|/r/NLP/comments/f...|\n",
      "+----------+------------+-----------+----------+------------+--------------------+--------------------+-----+----------------+---------------------+--------------------+\n",
      "\n",
      "Total execution time: 6904.44016456604 miliseconds\n"
     ]
    },
    {
     "name": "stderr",
     "output_type": "stream",
     "text": [
      "                                                                                \r"
     ]
    }
   ],
   "source": [
    "# Query the highest scoring comment for each subreddit and its number of replies\n",
    "reply_counts = comments.withColumn(\"row_number\", row_number().over(Window.partitionBy(\"subreddit_id\").orderBy(col(\"score\").desc())))\n",
    "reply_counts = reply_counts.filter(col(\"row_number\") == 1).select(\"comment_id\", \"num_replies\")\n",
    "reply_counts = reply_counts.alias(\"r\").join(comments.alias(\"c\"), col(\"r.comment_id\") == col(\"c.parent_id\")).groupBy(col(\"r.subreddit_id\").alias(\"subreddit_id\"), col(\"r.comment_id\").alias(\"comment_id\")).agg(count(\"c.comment_id\").alias(\"num_replies\"))\n",
    "top_scoring_comment_engagement = broadcast(reply_counts).join(comments, \"comment_id\").orderBy(col(\"num_replies\").desc())\n",
    "\n",
    "# Run the query and evaluate runtime. Observe that Spark runs every action when results are requested\n",
    "# without storing intermediate results. \n",
    "top_scoring_comment_engagement.explain()\n",
    "start = time.time()\n",
    "top_scoring_comment_engagement.show(13)\n",
    "end = time.time()\n",
    "\n",
    "runtime = (end - start) * 1000\n",
    "print(f\"Total execution time: {runtime} miliseconds\") "
   ]
  },
  {
   "cell_type": "code",
   "execution_count": null,
   "metadata": {},
   "outputs": [],
   "source": []
  }
 ],
 "metadata": {
  "kernelspec": {
   "display_name": "reddit",
   "language": "python",
   "name": "python3"
  },
  "language_info": {
   "codemirror_mode": {
    "name": "ipython",
    "version": 3
   },
   "file_extension": ".py",
   "mimetype": "text/x-python",
   "name": "python",
   "nbconvert_exporter": "python",
   "pygments_lexer": "ipython3",
   "version": "3.10.12"
  }
 },
 "nbformat": 4,
 "nbformat_minor": 2
}
