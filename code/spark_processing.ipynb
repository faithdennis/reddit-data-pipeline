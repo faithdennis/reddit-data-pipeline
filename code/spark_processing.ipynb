{
 "cells": [
  {
   "cell_type": "code",
   "execution_count": 3,
   "metadata": {},
   "outputs": [
    {
     "ename": "AnalysisException",
     "evalue": "[UNABLE_TO_INFER_SCHEMA] Unable to infer schema for Parquet. It must be specified manually.",
     "output_type": "error",
     "traceback": [
      "\u001b[0;31m---------------------------------------------------------------------------\u001b[0m",
      "\u001b[0;31mAnalysisException\u001b[0m                         Traceback (most recent call last)",
      "Cell \u001b[0;32mIn[3], line 21\u001b[0m\n\u001b[1;32m      8\u001b[0m spark \u001b[38;5;241m=\u001b[39m SparkSession\u001b[38;5;241m.\u001b[39mbuilder \\\n\u001b[1;32m      9\u001b[0m     \u001b[38;5;241m.\u001b[39mappName(\u001b[38;5;124m\"\u001b[39m\u001b[38;5;124mreddit loader\u001b[39m\u001b[38;5;124m\"\u001b[39m) \\\n\u001b[1;32m     10\u001b[0m     \u001b[38;5;241m.\u001b[39mconfig(\u001b[38;5;124m\"\u001b[39m\u001b[38;5;124mspark.default.parallelism\u001b[39m\u001b[38;5;124m\"\u001b[39m, \u001b[38;5;124m\"\u001b[39m\u001b[38;5;124m2\u001b[39m\u001b[38;5;124m\"\u001b[39m) \\\n\u001b[1;32m     11\u001b[0m     \u001b[38;5;241m.\u001b[39mconfig(\u001b[38;5;124m\"\u001b[39m\u001b[38;5;124mspark.sql.debug.maxToStringFields\u001b[39m\u001b[38;5;124m\"\u001b[39m, \u001b[38;5;124m\"\u001b[39m\u001b[38;5;124m2000\u001b[39m\u001b[38;5;124m\"\u001b[39m) \\\n\u001b[1;32m     12\u001b[0m     \u001b[38;5;241m.\u001b[39mgetOrCreate()\n\u001b[1;32m     14\u001b[0m \u001b[38;5;66;03m# Reducing sampling ratio used to infer schema to 0.1 to reduce resources needed for schema inference.\u001b[39;00m\n\u001b[1;32m     15\u001b[0m \u001b[38;5;66;03m# submissions_df = spark.read.option(\"samplingRatio\", 0.05).json(\"submissions_data.ndjson\")\u001b[39;00m\n\u001b[1;32m     16\u001b[0m \n\u001b[0;32m   (...)\u001b[0m\n\u001b[1;32m     19\u001b[0m \n\u001b[1;32m     20\u001b[0m \u001b[38;5;66;03m# Read and verify num partitions is appropriate\u001b[39;00m\n\u001b[0;32m---> 21\u001b[0m submissions_df \u001b[38;5;241m=\u001b[39m spark\u001b[38;5;241m.\u001b[39mread\u001b[38;5;241m.\u001b[39mparquet(\u001b[38;5;124m\"\u001b[39m\u001b[38;5;124m../data/submissions_data.parquet\u001b[39m\u001b[38;5;124m\"\u001b[39m)\n\u001b[1;32m     22\u001b[0m \u001b[38;5;66;03m# submissions_df.rdd.getNumPartitions() # --> 3\u001b[39;00m\n\u001b[1;32m     23\u001b[0m submissions_df\u001b[38;5;241m.\u001b[39mdescribe()\u001b[38;5;241m.\u001b[39mshow() \n",
      "File \u001b[0;32m~/miniconda3/envs/mood_project/lib/python3.12/site-packages/pyspark/sql/readwriter.py:544\u001b[0m, in \u001b[0;36mDataFrameReader.parquet\u001b[0;34m(self, *paths, **options)\u001b[0m\n\u001b[1;32m    533\u001b[0m int96RebaseMode \u001b[38;5;241m=\u001b[39m options\u001b[38;5;241m.\u001b[39mget(\u001b[38;5;124m\"\u001b[39m\u001b[38;5;124mint96RebaseMode\u001b[39m\u001b[38;5;124m\"\u001b[39m, \u001b[38;5;28;01mNone\u001b[39;00m)\n\u001b[1;32m    534\u001b[0m \u001b[38;5;28mself\u001b[39m\u001b[38;5;241m.\u001b[39m_set_opts(\n\u001b[1;32m    535\u001b[0m     mergeSchema\u001b[38;5;241m=\u001b[39mmergeSchema,\n\u001b[1;32m    536\u001b[0m     pathGlobFilter\u001b[38;5;241m=\u001b[39mpathGlobFilter,\n\u001b[0;32m   (...)\u001b[0m\n\u001b[1;32m    541\u001b[0m     int96RebaseMode\u001b[38;5;241m=\u001b[39mint96RebaseMode,\n\u001b[1;32m    542\u001b[0m )\n\u001b[0;32m--> 544\u001b[0m \u001b[38;5;28;01mreturn\u001b[39;00m \u001b[38;5;28mself\u001b[39m\u001b[38;5;241m.\u001b[39m_df(\u001b[38;5;28mself\u001b[39m\u001b[38;5;241m.\u001b[39m_jreader\u001b[38;5;241m.\u001b[39mparquet(_to_seq(\u001b[38;5;28mself\u001b[39m\u001b[38;5;241m.\u001b[39m_spark\u001b[38;5;241m.\u001b[39m_sc, paths)))\n",
      "File \u001b[0;32m~/miniconda3/envs/mood_project/lib/python3.12/site-packages/py4j/java_gateway.py:1322\u001b[0m, in \u001b[0;36mJavaMember.__call__\u001b[0;34m(self, *args)\u001b[0m\n\u001b[1;32m   1316\u001b[0m command \u001b[38;5;241m=\u001b[39m proto\u001b[38;5;241m.\u001b[39mCALL_COMMAND_NAME \u001b[38;5;241m+\u001b[39m\\\n\u001b[1;32m   1317\u001b[0m     \u001b[38;5;28mself\u001b[39m\u001b[38;5;241m.\u001b[39mcommand_header \u001b[38;5;241m+\u001b[39m\\\n\u001b[1;32m   1318\u001b[0m     args_command \u001b[38;5;241m+\u001b[39m\\\n\u001b[1;32m   1319\u001b[0m     proto\u001b[38;5;241m.\u001b[39mEND_COMMAND_PART\n\u001b[1;32m   1321\u001b[0m answer \u001b[38;5;241m=\u001b[39m \u001b[38;5;28mself\u001b[39m\u001b[38;5;241m.\u001b[39mgateway_client\u001b[38;5;241m.\u001b[39msend_command(command)\n\u001b[0;32m-> 1322\u001b[0m return_value \u001b[38;5;241m=\u001b[39m get_return_value(\n\u001b[1;32m   1323\u001b[0m     answer, \u001b[38;5;28mself\u001b[39m\u001b[38;5;241m.\u001b[39mgateway_client, \u001b[38;5;28mself\u001b[39m\u001b[38;5;241m.\u001b[39mtarget_id, \u001b[38;5;28mself\u001b[39m\u001b[38;5;241m.\u001b[39mname)\n\u001b[1;32m   1325\u001b[0m \u001b[38;5;28;01mfor\u001b[39;00m temp_arg \u001b[38;5;129;01min\u001b[39;00m temp_args:\n\u001b[1;32m   1326\u001b[0m     \u001b[38;5;28;01mif\u001b[39;00m \u001b[38;5;28mhasattr\u001b[39m(temp_arg, \u001b[38;5;124m\"\u001b[39m\u001b[38;5;124m_detach\u001b[39m\u001b[38;5;124m\"\u001b[39m):\n",
      "File \u001b[0;32m~/miniconda3/envs/mood_project/lib/python3.12/site-packages/pyspark/errors/exceptions/captured.py:185\u001b[0m, in \u001b[0;36mcapture_sql_exception.<locals>.deco\u001b[0;34m(*a, **kw)\u001b[0m\n\u001b[1;32m    181\u001b[0m converted \u001b[38;5;241m=\u001b[39m convert_exception(e\u001b[38;5;241m.\u001b[39mjava_exception)\n\u001b[1;32m    182\u001b[0m \u001b[38;5;28;01mif\u001b[39;00m \u001b[38;5;129;01mnot\u001b[39;00m \u001b[38;5;28misinstance\u001b[39m(converted, UnknownException):\n\u001b[1;32m    183\u001b[0m     \u001b[38;5;66;03m# Hide where the exception came from that shows a non-Pythonic\u001b[39;00m\n\u001b[1;32m    184\u001b[0m     \u001b[38;5;66;03m# JVM exception message.\u001b[39;00m\n\u001b[0;32m--> 185\u001b[0m     \u001b[38;5;28;01mraise\u001b[39;00m converted \u001b[38;5;28;01mfrom\u001b[39;00m \u001b[38;5;28;01mNone\u001b[39;00m\n\u001b[1;32m    186\u001b[0m \u001b[38;5;28;01melse\u001b[39;00m:\n\u001b[1;32m    187\u001b[0m     \u001b[38;5;28;01mraise\u001b[39;00m\n",
      "\u001b[0;31mAnalysisException\u001b[0m: [UNABLE_TO_INFER_SCHEMA] Unable to infer schema for Parquet. It must be specified manually."
     ]
    }
   ],
   "source": [
    "from pyspark.sql import SparkSession\n",
    "from pyspark.sql.functions import col\n",
    "\n",
    "# Create access point for Spark services\n",
    "# Use defaultParallelism to determine default number of partitions\n",
    "# Use getNumPartitions() to verify number is appropriate for data size ~1GB\n",
    "# Set default parallelism to balance processing speed and hardware limits\n",
    "spark = SparkSession.builder \\\n",
    "    .appName(\"reddit loader\") \\\n",
    "    .config(\"spark.default.parallelism\", \"2\") \\\n",
    "    .config(\"spark.sql.debug.maxToStringFields\", \"2000\") \\\n",
    "    .getOrCreate()\n",
    "\n",
    "# Reducing sampling ratio used to infer schema to 0.1 to reduce resources needed for schema inference.\n",
    "# submissions_df = spark.read.option(\"samplingRatio\", 0.05).json(\"submissions_data.ndjson\")\n",
    "\n",
    "# Create parquet files for more efficient reads and writes\n",
    "# submissions_df.write.option(\"compression\", \"snappy\").mode(\"overwrite\").parquet(\"submissions_data.parquet\")\n",
    "\n",
    "# Read and verify num partitions is appropriate\n",
    "submissions_df = spark.read.parquet(\"../data/submissions_data.parquet\")\n",
    "# submissions_df.rdd.getNumPartitions() # --> 3\n",
    "submissions_df.describe().show() \n",
    "submissions_df.count()"
   ]
  },
  {
   "cell_type": "code",
   "execution_count": 130,
   "metadata": {},
   "outputs": [
    {
     "name": "stderr",
     "output_type": "stream",
     "text": [
      "                                                                                \r"
     ]
    },
    {
     "name": "stdout",
     "output_type": "stream",
     "text": [
      "+-------------+------------------+---------------+-----------+-----+--------+------------+--------------+-----------+-----+--------+------------------+------------+---------------------+--------------+--------------------+---------------------+-----+---+------------+--------------------+\n",
      "|       author|author_created_utc|author_fullname|created_utc|   id|    name|num_comments|num_crossposts|num_reports|score|selftext|         subreddit|subreddit_id|subreddit_subscribers|subreddit_type|               title|total_awards_received|downs|ups|upvote_ratio|                 url|\n",
      "+-------------+------------------+---------------+-----------+-----+--------+------------+--------------+-----------+-----+--------+------------------+------------+---------------------+--------------+--------------------+---------------------+-----+---+------------+--------------------+\n",
      "|ilikebluepens|              NULL|           NULL| 1309564251|iemkn|t3_iemkn|           0|          NULL|       NULL|    4|        |AcademicPsychology|    t5_2sluh|                 NULL|          NULL|Sister subreddit ...|                 NULL|    2|  6|        NULL|http://reddit.com...|\n",
      "| inquilinekea|              NULL|           NULL| 1309561297|iellt|t3_iellt|           1|          NULL|       NULL|    5|        |AcademicPsychology|    t5_2sluh|                 NULL|          NULL|Decline of Fluid ...|                 NULL|    2|  7|        NULL|http://www.quora....|\n",
      "|       drooze|              NULL|           NULL| 1309560844|ielfu|t3_ielfu|           3|          NULL|       NULL|    6|        |AcademicPsychology|    t5_2sluh|                 NULL|          NULL|Ecological Moment...|                 NULL|    0|  6|        NULL|http://www.ncbi.n...|\n",
      "|    [deleted]|              NULL|           NULL| 1309558625|iekns|t3_iekns|           0|          NULL|       NULL|    1|        |AcademicPsychology|    t5_2sluh|                 NULL|          NULL|The Evolution of ...|                 NULL|    0|  1|        NULL|http://arxiv.org/...|\n",
      "|      amayain|              NULL|           NULL| 1309557887|iekel|t3_iekel|           2|          NULL|       NULL|    4|        |AcademicPsychology|    t5_2sluh|                 NULL|          NULL|Is self-compassio...|                 NULL|    1|  5|        NULL|http://www.ncbi.n...|\n",
      "+-------------+------------------+---------------+-----------+-----+--------+------------+--------------+-----------+-----+--------+------------------+------------+---------------------+--------------+--------------------+---------------------+-----+---+------------+--------------------+\n",
      "only showing top 5 rows\n",
      "\n"
     ]
    },
    {
     "name": "stderr",
     "output_type": "stream",
     "text": [
      "[Stage 729:===================>                                     (1 + 2) / 3]\r"
     ]
    },
    {
     "name": "stdout",
     "output_type": "stream",
     "text": [
      "+-------------+---------------+-------------------+\n",
      "|     username|author_fullname|         joined_utc|\n",
      "+-------------+---------------+-------------------+\n",
      "|      CMM____|      t2_14lvxs|2017-01-19 22:49:56|\n",
      "|     Zelduuhh|       t2_9zt4a|2012-12-24 18:56:36|\n",
      "|OldSoulWisdom|    t2_3y320f6p|2019-06-14 16:08:47|\n",
      "|  WilmerSt123|    t2_2yflf4z0|2019-05-16 10:27:57|\n",
      "|    ethan2266|    t2_5eaz4r5z|2020-01-14 16:20:03|\n",
      "+-------------+---------------+-------------------+\n",
      "only showing top 5 rows\n",
      "\n"
     ]
    },
    {
     "name": "stderr",
     "output_type": "stream",
     "text": [
      "                                                                                \r"
     ]
    }
   ],
   "source": [
    "# Select the columns of data that we find most relevant (based on interest)\n",
    "submissions_df = submissions_df.select(\n",
    "    \"author\", \"author_created_utc\", \n",
    "    \"author_fullname\", \"created_utc\", \n",
    "    \"id\", \"name\", \"num_comments\", \n",
    "    \"num_crossposts\", \"num_reports\", \n",
    "    \"score\", \"selftext\", \"subreddit\", \n",
    "    \"subreddit_id\", \"subreddit_subscribers\", \n",
    "    \"subreddit_type\", \"title\", \n",
    "    \"total_awards_received\", \"downs\", \"ups\", \n",
    "    \"upvote_ratio\", \"url\")\n",
    "submissions_df.show(5)\n",
    "\n",
    "# Next let's perform some preprocessing\n",
    "users = submissions_df.select(\n",
    "    col(\"author\").alias(\"username\"),\n",
    "    col(\"author_fullname\"),\n",
    "    col(\"author_created_utc\").alias(\"joined_utc\").cast(\"timestamp\")\n",
    "    ).dropDuplicates()\n",
    "users.show(5)"
   ]
  },
  {
   "cell_type": "code",
   "execution_count": 112,
   "metadata": {},
   "outputs": [
    {
     "name": "stdout",
     "output_type": "stream",
     "text": [
      "+---------+------------------+--------------+\n",
      "|       id|              name|subreddit_type|\n",
      "+---------+------------------+--------------+\n",
      "| t5_2r5zc|            edtech|        public|\n",
      "| t5_2rawx|     climatechange|        public|\n",
      "| t5_2qh0k|            cogsci|        public|\n",
      "| t5_2sluh|AcademicPsychology|        public|\n",
      "|t5_7ipnaj|     ChatGPTCoding|        public|\n",
      "+---------+------------------+--------------+\n",
      "only showing top 5 rows\n",
      "\n",
      "+------------+----------------+-------------------+\n",
      "|subreddit_id|subscriber_count|               date|\n",
      "+------------+----------------+-------------------+\n",
      "|    t5_2sluh|           18442|2017-05-16 18:55:05|\n",
      "|    t5_2sluh|           18442|2017-02-12 06:52:13|\n",
      "|    t5_2sluh|           18442|2014-10-17 09:42:41|\n",
      "|    t5_2sluh|           18442|2018-04-14 20:33:44|\n",
      "|    t5_2sluh|           18442|2018-03-12 18:40:44|\n",
      "+------------+----------------+-------------------+\n",
      "only showing top 5 rows\n",
      "\n"
     ]
    }
   ],
   "source": [
    "subreddits = submissions_df.select(\n",
    "    col(\"subreddit_id\").alias(\"id\"),\n",
    "    col(\"subreddit\").alias(\"name\"),\n",
    "    col(\"subreddit_type\")\n",
    ").dropDuplicates().dropna()\n",
    "subreddits.show(5)\n",
    "\n",
    "subscriber_counts = submissions_df.select(\n",
    "    col(\"subreddit_id\"),\n",
    "    col(\"subreddit_subscribers\").alias(\"subscriber_count\").cast(\"int\"),\n",
    "    col(\"author_created_utc\").alias(\"date\").cast(\"timestamp\")\n",
    ").dropna()\n",
    "subscriber_counts.show(5)"
   ]
  },
  {
   "cell_type": "code",
   "execution_count": 107,
   "metadata": {},
   "outputs": [
    {
     "name": "stderr",
     "output_type": "stream",
     "text": [
      "[Stage 569:>                                                        (0 + 1) / 1]\r"
     ]
    },
    {
     "name": "stdout",
     "output_type": "stream",
     "text": [
      "+-----+--------------------+-----------+-------------+-----+------------+--------------+-----------+--------+------------+--------------------+---------------------+-----+---+\n",
      "|   id|               title|created_utc|       author|score|num_comments|num_crossposts|num_reports|selftext|upvote_ratio|                 url|total_awards_received|downs|ups|\n",
      "+-----+--------------------+-----------+-------------+-----+------------+--------------+-----------+--------+------------+--------------------+---------------------+-----+---+\n",
      "|iemkn|Sister subreddit ...|       NULL|ilikebluepens|    4|           0|          NULL|       NULL|        |        NULL|http://reddit.com...|                 NULL|    2|  6|\n",
      "|iellt|Decline of Fluid ...|       NULL| inquilinekea|    5|           1|          NULL|       NULL|        |        NULL|http://www.quora....|                 NULL|    2|  7|\n",
      "|ielfu|Ecological Moment...|       NULL|       drooze|    6|           3|          NULL|       NULL|        |        NULL|http://www.ncbi.n...|                 NULL|    0|  6|\n",
      "|iekns|The Evolution of ...|       NULL|    [deleted]|    1|           0|          NULL|       NULL|        |        NULL|http://arxiv.org/...|                 NULL|    0|  1|\n",
      "|iekel|Is self-compassio...|       NULL|      amayain|    4|           2|          NULL|       NULL|        |        NULL|http://www.ncbi.n...|                 NULL|    1|  5|\n",
      "+-----+--------------------+-----------+-------------+-----+------------+--------------+-----------+--------+------------+--------------------+---------------------+-----+---+\n",
      "only showing top 5 rows\n",
      "\n"
     ]
    },
    {
     "name": "stderr",
     "output_type": "stream",
     "text": [
      "                                                                                \r"
     ]
    }
   ],
   "source": [
    "submissions = submissions_df.select(\n",
    "    col(\"id\"),\n",
    "    col(\"title\"),\n",
    "    col(\"created_utc\").cast(\"timestamp\"),\n",
    "    col(\"author\"),\n",
    "    col(\"score\").cast(\"int\"),\n",
    "    col(\"num_comments\").cast(\"int\"),\n",
    "    col(\"num_crossposts\").cast(\"int\"),\n",
    "    col(\"num_reports\").cast(\"int\"),\n",
    "    col(\"selftext\"),\n",
    "    col(\"upvote_ratio\"),\n",
    "    col(\"url\"),\n",
    "    col(\"total_awards_received\"),\n",
    "    col(\"downs\"),\n",
    "    col(\"ups\")\n",
    ")\n",
    "submissions.show(5)"
   ]
  },
  {
   "cell_type": "code",
   "execution_count": null,
   "metadata": {},
   "outputs": [
    {
     "name": "stderr",
     "output_type": "stream",
     "text": [
      "[Stage 615:======================================>                  (2 + 1) / 3]\r"
     ]
    },
    {
     "name": "stdout",
     "output_type": "stream",
     "text": [
      "+-------+--------+--------------------+--------------------+------------------+-----------------+-------------------+--------------------+------+---------------------+\n",
      "|summary|      id|               title|              author|             score|     num_comments|     num_crossposts|            selftext|   url|total_awards_received|\n",
      "+-------+--------+--------------------+--------------------+------------------+-----------------+-------------------+--------------------+------+---------------------+\n",
      "|  count|  839181|              839181|              839181|            839181|           839181|             762691|              839181|838159|               451933|\n",
      "|   mean|Infinity|8.555564974470297...|1.357251799493589...|19.061613644732184|7.622629682988533|0.01758641441947001|   5.050050055055E11|  NULL|   0.0723138164285414|\n",
      "| stddev|     NaN|3.081412198113064...|2.694542489993745...| 268.3973863642429| 52.8010183274944|0.22683376522460375|7.141849278507634E11|  NULL|    1.855232829296848|\n",
      "|    min| 10006jb|\\n      A pill to...|--------Username----|                 0|               -2|                  0|                    |      |                    0|\n",
      "|    max|  zzzp6k|🪐Come, Let's bec...|            zzzzoooo|            101741|             6798|                 35|                  🪽|  self|                  390|\n",
      "+-------+--------+--------------------+--------------------+------------------+-----------------+-------------------+--------------------+------+---------------------+\n",
      "\n"
     ]
    },
    {
     "name": "stderr",
     "output_type": "stream",
     "text": [
      "                                                                                \r"
     ]
    }
   ],
   "source": [
    "# For submissions, we can probably impute upvote_ratio, num_reports, and num_crossposts.\n",
    "# For now, we will remove any columns that are more than 50% missing.\n",
    "threshold = int(0.50 * submissions.count())\n",
    "columns_to_keep = [column for column in submissions.columns\n",
    "    if submissions.filter(submissions[column].isNotNull()).count() >= threshold]\n",
    "submissions = submissions.select(columns_to_keep)\n",
    "submissions.describe().show()"
   ]
  },
  {
   "cell_type": "code",
   "execution_count": null,
   "metadata": {},
   "outputs": [
    {
     "name": "stderr",
     "output_type": "stream",
     "text": [
      "                                                                                \r"
     ]
    },
    {
     "name": "stdout",
     "output_type": "stream",
     "text": [
      "+-------+---------------+-----------+----------------+-------------+--------------------+-----------------------------+----------------------+------------------------+-----------------+-----------------------+-----------------+---------------+-------------+---------+--------------------+--------------------+--------------------+-------------------------------+--------------------+---------------------+------------+--------------------+-------------------+--------------------+-------------+------+--------------------+--------------------+--------------------+-----+----------+--------+-------------+----------------+-------+----------+-----------+--------------------+--------------------+--------------+-------+-------------------+--------------------+--------+------------------+------------------+------------+-----------------------+--------------+----------------+---------------------+------------------+-------------------+------------------+\n",
      "|summary|approved_at_utc|approved_by|associated_award|       author|  author_created_utc|author_flair_background_color|author_flair_css_class|author_flair_template_id|author_flair_text|author_flair_text_color|author_flair_type|author_fullname|banned_at_utc|banned_by|                body|           body_html|           body_sha1|collapsed_because_crowd_control|    collapsed_reason|collapsed_reason_code|comment_type|    controversiality|            created|         created_utc|distinguished| downs|              edited|              gilded|                  id|likes|   link_id|mod_note|mod_reason_by|mod_reason_title|   name|nest_level|num_reports|           parent_id|           permalink|removal_reason|replies|       retrieved_on|       retrieved_utc|rte_mode|             score|         subreddit|subreddit_id|subreddit_name_prefixed|subreddit_type|top_awarded_type|total_awards_received|unrepliable_reason|         updated_on|               ups|\n",
      "+-------+---------------+-----------+----------------+-------------+--------------------+-----------------------------+----------------------+------------------------+-----------------+-----------------------+-----------------+---------------+-------------+---------+--------------------+--------------------+--------------------+-------------------------------+--------------------+---------------------+------------+--------------------+-------------------+--------------------+-------------+------+--------------------+--------------------+--------------------+-----+----------+--------+-------------+----------------+-------+----------+-----------+--------------------+--------------------+--------------+-------+-------------------+--------------------+--------+------------------+------------------+------------+-----------------------+--------------+----------------+---------------------+------------------+-------------------+------------------+\n",
      "|  count|              0|          0|               0|      1000833|              382241|                        90182|                  5302|                    7167|            19885|                  99093|           707823|         705228|            0|        0|             1000833|                1185|                 212|                              0|                4112|                31814|           0|             1000833|             292876|             1000833|        35497|438874|             1000833|             1000833|             1000833|    0|   1000833|       0|            0|               0| 710424|        85|     292611|             1000833|              802745|            15| 294008|             940475|               60022|    2778|           1000833|           1000833|     1000833|                 719724|        800715|               0|               738536|                 0|             292820|            466098|\n",
      "|   mean|           NULL|       NULL|            NULL|     Infinity|1.4801933343165333E9|                         NULL|                  NULL|                    NULL|             NULL|                   NULL|             NULL|           NULL|         NULL|     NULL|5.406422518721979E75|                NULL|                NULL|                           NULL|                NULL|                 NULL|        NULL|0.010223483837962977|1.693799721870481E9|1.5872016614600067E9|         NULL|   0.0|1.6114873889603665E9|2.038302094355402E-4|3.043478282608696E28| NULL|      NULL|    NULL|         NULL|            NULL|   NULL|       1.0|        0.0|4.336460094351968...|                NULL|          NULL|   NULL|1.604590271430155E9|1.6274894973383093E9|    NULL|2.5126129933765173|              NULL|        NULL|                   NULL|          NULL|            NULL| 0.001618066011677...|              NULL|1.695775849276354E9|2.1359907143991177|\n",
      "| stddev|           NULL|       NULL|            NULL|          NaN|1.1858325709170178E8|                         NULL|                  NULL|                    NULL|             NULL|                   NULL|             NULL|           NULL|         NULL|     NULL|7.393171601096885E76|                NULL|                NULL|                           NULL|                NULL|                 NULL|        NULL| 0.10059311272015548|  7668786.404835402|1.2603073701333368E8|         NULL|   0.0| 8.740195931895377E7|0.021853171115703517|1.459600897925626...| NULL|      NULL|    NULL|         NULL|            NULL|   NULL|       0.0|        0.0|1.1127094067500521E8|                NULL|          NULL|   NULL|9.739649187712409E7|  510725.80043810135|    NULL| 6.075691118144939|              NULL|        NULL|                   NULL|          NULL|            NULL| 0.051713664160900216|              NULL|  4313454.582147943| 5.128616564605724|\n",
      "|    min|           NULL|       NULL|            NULL|          ---|          1122523200|                             |                      |    03496466-0b5e-11e...|                 |                       |         richtext|      t2_10003s|         NULL|     NULL|                    |&lt;div class=\"md...|0115e5a763baee712...|                           NULL|comment score bel...|              DELETED|        NULL|                   0|      1.423494649E9|       1.680307233E9|        admin|     0|       1.470257164E9|                   0|                104c| NULL|t3_10006ky|    NULL|         NULL|            NULL|t1_104c|         1|          0|         42833958379|/r/AcademicPsycho...|         legal|       |         1424081464|          1626817114|markdown|              -101|AcademicPsychology|    t5_2qh0k|   r/AcademicPsychology|        public|            NULL|                    0|              NULL|         1687336498|               -75|\n",
      "|    max|           NULL|       NULL|            NULL|zzzztopportal|          1680272913|                  transparent|              firefoxg|    f8d94ce4-0b5d-11e...|🚨 FRAUD ALERT 🚨|                  light|             text|       t2_zzzq3|         NULL|     NULL|                  🫥|&lt;div class=\"md...|ff1946f0593e1c2b4...|                           NULL|may be sensitive ...|            LOW_SCORE|        NULL|                   1|       1.70406718E9|          1704062219|    moderator|     0|                true|                  15|                 zub| NULL| t3_zzzp6k|    NULL|         NULL|            NULL| t1_zub|         1|          0|           t3_zzzp6k|/r/stockstobuytod...|         legal|       |         1704067195|          1628435538|richtext|               723|  stockstobuytoday|    t5_g268k|     r/stockstobuytoday|    restricted|            NULL|                   14|              NULL|         1704188101|               723|\n",
      "+-------+---------------+-----------+----------------+-------------+--------------------+-----------------------------+----------------------+------------------------+-----------------+-----------------------+-----------------+---------------+-------------+---------+--------------------+--------------------+--------------------+-------------------------------+--------------------+---------------------+------------+--------------------+-------------------+--------------------+-------------+------+--------------------+--------------------+--------------------+-----+----------+--------+-------------+----------------+-------+----------+-----------+--------------------+--------------------+--------------+-------+-------------------+--------------------+--------+------------------+------------------+------------+-----------------------+--------------+----------------+---------------------+------------------+-------------------+------------------+\n",
      "\n"
     ]
    },
    {
     "data": {
      "text/plain": [
       "1000833"
      ]
     },
     "execution_count": 109,
     "metadata": {},
     "output_type": "execute_result"
    }
   ],
   "source": [
    "# Repeat the same steps with comments data\n",
    "# comments_df = spark.read.option(\"samplingRatio\", 0.05).json(\"comments_data.ndjson\")\n",
    "# comments_df.write.option(\"compression\", \"snappy\").mode(\"overwrite\").parquet(\"comments_data.parquet\")\n",
    "comments_df = spark.read.parquet(\"../data/comments_data.parquet\")\n",
    "comments_df.describe().show()\n",
    "comments_df.count()"
   ]
  },
  {
   "cell_type": "code",
   "execution_count": 131,
   "metadata": {},
   "outputs": [
    {
     "name": "stderr",
     "output_type": "stream",
     "text": [
      "[Stage 732:===================>                                     (1 + 2) / 3]\r"
     ]
    },
    {
     "name": "stdout",
     "output_type": "stream",
     "text": [
      "+-------------+---------------+-------------------+\n",
      "|     username|author_fullname|         joined_utc|\n",
      "+-------------+---------------+-------------------+\n",
      "|      CMM____|      t2_14lvxs|2017-01-19 22:49:56|\n",
      "|     Zelduuhh|       t2_9zt4a|2012-12-24 18:56:36|\n",
      "|OldSoulWisdom|    t2_3y320f6p|2019-06-14 16:08:47|\n",
      "|  WilmerSt123|    t2_2yflf4z0|2019-05-16 10:27:57|\n",
      "|    ethan2266|    t2_5eaz4r5z|2020-01-14 16:20:03|\n",
      "+-------------+---------------+-------------------+\n",
      "only showing top 5 rows\n",
      "\n"
     ]
    },
    {
     "name": "stderr",
     "output_type": "stream",
     "text": [
      "                                                                                \r"
     ]
    }
   ],
   "source": [
    "comments_df = comments_df.select(\"author\", \"author_created_utc\", \"author_fullname\", \"body\", \"controversiality\", \"created_utc\", \"distinguished\", \"downs\", \"id\", \"name\", \"num_reports\", \"parent_id\", \"permalink\", \"replies\", \"score\", \"subreddit\", \"subreddit_id\", \"subreddit_name_prefixed\", \"subreddit_type\", \"total_awards_received\", \"ups\")\n",
    "\n",
    "users = users.union(comments_df.select(\n",
    "    col(\"author\").alias(\"username\"),\n",
    "    col(\"author_fullname\"),\n",
    "    col(\"author_created_utc\").alias(\"joined_utc\").cast(\"timestamp\")\n",
    "    )).dropDuplicates()\n",
    "users.show(5)"
   ]
  },
  {
   "cell_type": "code",
   "execution_count": 132,
   "metadata": {},
   "outputs": [
    {
     "name": "stderr",
     "output_type": "stream",
     "text": [
      "[Stage 738:>                                                        (0 + 1) / 1]\r"
     ]
    },
    {
     "name": "stdout",
     "output_type": "stream",
     "text": [
      "+----------+---------+------------+---------+----------+--------------------+-----+---+-----+----------------+-------------+-----------+---------------------+---------+\n",
      "|comment_id|parent_id|subreddit_id|   author|created_at|                body|score|ups|downs|controversiality|distinguished|num_reports|total_awards_received|permalink|\n",
      "+----------+---------+------------+---------+----------+--------------------+-----+---+-----+----------------+-------------+-----------+---------------------+---------+\n",
      "|   c233p63| t3_iejzu|    t5_2sluh|  amayain|      NULL|I agree that it i...|    3|  3|    0|               0|         NULL|       NULL|                 NULL|     NULL|\n",
      "|   c233q0r| t3_iekel|    t5_2sluh|  amayain|      NULL|I thought I might...|    2|  2|    0|               0|         NULL|       NULL|                 NULL|     NULL|\n",
      "|   c233vof| t3_iejzu|    t5_2sluh|nicson123|      NULL|Yes, the issue of...|    3|  3|    0|               0|         NULL|       NULL|                 NULL|     NULL|\n",
      "|   c233yu8| t3_ielfu|    t5_2sluh|   drooze|      NULL|I'm involved with...|    2|  2|    0|               0|         NULL|       NULL|                 NULL|     NULL|\n",
      "|   c233zdz| t3_iejzu|    t5_2sluh|   drooze|      NULL|If you find an ar...|    2|  2|    0|               0|         NULL|       NULL|                 NULL|     NULL|\n",
      "+----------+---------+------------+---------+----------+--------------------+-----+---+-----+----------------+-------------+-----------+---------------------+---------+\n",
      "only showing top 5 rows\n",
      "\n"
     ]
    },
    {
     "name": "stderr",
     "output_type": "stream",
     "text": [
      "                                                                                \r"
     ]
    }
   ],
   "source": [
    "comments = comments_df.select(\n",
    "    col(\"id\").alias(\"comment_id\"),\n",
    "    col(\"parent_id\"),\n",
    "    col(\"subreddit_id\"),\n",
    "    col(\"author\"),\n",
    "    col(\"created_utc\").alias(\"created_at\").cast(\"timestamp\"),\n",
    "    col(\"body\"),\n",
    "    col(\"score\").cast(\"int\"),\n",
    "    col(\"ups\").cast(\"int\"),\n",
    "    col(\"downs\").cast(\"int\"),\n",
    "    col(\"controversiality\").cast(\"int\"),\n",
    "    col(\"distinguished\"),\n",
    "    col(\"num_reports\").cast(\"int\"),\n",
    "    col(\"total_awards_received\").cast(\"int\"),\n",
    "    col(\"permalink\")\n",
    ").dropna(subset=[\"comment_id\", \"body\"])\n",
    "comments.show(5)"
   ]
  },
  {
   "cell_type": "code",
   "execution_count": 134,
   "metadata": {},
   "outputs": [
    {
     "name": "stderr",
     "output_type": "stream",
     "text": [
      "[Stage 790:============================>                            (1 + 1) / 2]\r"
     ]
    },
    {
     "name": "stdout",
     "output_type": "stream",
     "text": [
      "+-------+--------------------+--------------------+------------+-------------+--------------------+------------------+--------------------+---------------------+--------------------+\n",
      "|summary|          comment_id|           parent_id|subreddit_id|       author|                body|             score|    controversiality|total_awards_received|           permalink|\n",
      "+-------+--------------------+--------------------+------------+-------------+--------------------+------------------+--------------------+---------------------+--------------------+\n",
      "|  count|             1000833|             1000833|     1000833|      1000833|             1000833|           1000833|             1000833|               738536|              802745|\n",
      "|   mean|3.043478282608696E28|4.336460094351968...|        NULL|     Infinity|5.406422518721979E75|2.5126129933765173|0.010223483837962977| 0.001618066011677...|                NULL|\n",
      "| stddev|1.459600897925626...|1.1127094067500521E8|        NULL|          NaN|7.393171601096885E76| 6.075691118144939| 0.10059311272015548| 0.051713664160900216|                NULL|\n",
      "|    min|                104c|         42833958379|    t5_2qh0k|          ---|                    |              -101|                   0|                    0|/r/AcademicPsycho...|\n",
      "|    max|                 zub|           t3_zzzp6k|    t5_g268k|zzzztopportal|                  🫥|               723|                   1|                   14|/r/stockstobuytod...|\n",
      "+-------+--------------------+--------------------+------------+-------------+--------------------+------------------+--------------------+---------------------+--------------------+\n",
      "\n"
     ]
    },
    {
     "name": "stderr",
     "output_type": "stream",
     "text": [
      "                                                                                \r"
     ]
    }
   ],
   "source": [
    "# For now, we will remove any columns that are more than 50% missing.\n",
    "threshold = int(0.50 * comments.count())\n",
    "columns_to_keep = [column for column in comments.columns\n",
    "    if comments.filter(comments[column].isNotNull()).count() >= threshold]\n",
    "comments = comments.select(columns_to_keep)\n",
    "comments.describe().show()"
   ]
  },
  {
   "cell_type": "code",
   "execution_count": null,
   "metadata": {},
   "outputs": [],
   "source": []
  }
 ],
 "metadata": {
  "kernelspec": {
   "display_name": "Python 3 (ipykernel)",
   "language": "python",
   "name": "python3"
  },
  "language_info": {
   "codemirror_mode": {
    "name": "ipython",
    "version": 3
   },
   "file_extension": ".py",
   "mimetype": "text/x-python",
   "name": "python",
   "nbconvert_exporter": "python",
   "pygments_lexer": "ipython3",
   "version": "3.12.7"
  }
 },
 "nbformat": 4,
 "nbformat_minor": 4
}
